{
 "cells": [
  {
   "cell_type": "markdown",
   "metadata": {},
   "source": [
    "# 1- Implementation a Neural Network\n",
    "In this problem you should train an artificial neural network (MLP and RBF) for classification of the given dataset.<br>\n",
    "you should fill the missing sections to complete your neural network implementation.<br>\n",
    "in this exercise you will:\n",
    "- Tune the learning rate and regularization weight\n",
    "- Implement the loss function for MLP\n",
    "- Implement the forward pass and backward pass \n",
    "- visualize the train and validation accuracy versuse iteration\n",
    "- visualize the weights neurons"
   ]
  },
  {
   "cell_type": "code",
   "execution_count": 5,
   "metadata": {
    "collapsed": true
   },
   "outputs": [],
   "source": [
    "# initialization\n",
    "\n",
    "import numpy as np\n",
    "import matplotlib.pyplot as plt\n",
    "\n",
    "from neural_net import MLPNet\n",
    "\n",
    "%matplotlib inline\n",
    "plt.rcParams['figure.figsize'] = (10.0, 8.0) # set default size of plots\n",
    "plt.rcParams['image.interpolation'] = 'nearest'\n",
    "plt.rcParams['image.cmap'] = 'gray'\n",
    "\n",
    "# for auto-reloading external modules\n",
    "%load_ext autoreload\n",
    "%autoreload 2\n",
    "\n",
    "def rel_error(x, y):\n",
    "  return np.max(np.abs(x - y) / (np.maximum(1e-8, np.abs(x) + np.abs(y))))"
   ]
  },
  {
   "cell_type": "markdown",
   "metadata": {},
   "source": [
    "## 1-1-1 Create a toy dataset\n",
    "In this section we create a toy dataset containing 5 samples with 4 features.\n",
    "The network has 8 neurons in the hidden layer and there are 3 classes in the output.\n",
    "MLPNet class in the file neural_net.py will be used to instantiate our network . We use toy dataset with small size to check your implementaion and to see what happens to network weights during training."
   ]
  },
  {
   "cell_type": "code",
   "execution_count": 7,
   "metadata": {
    "collapsed": true
   },
   "outputs": [],
   "source": [
    "# Create our network and toy dataset\n",
    "\n",
    "features = 4#5\n",
    "hidden_size = 8#6\n",
    "classes = 3\n",
    "inputs = 5\n",
    "np.random.seed(0)\n",
    "\n",
    "net = MLPNet(features, hidden_size, classes, std=1e-1)\n",
    "X = 10 * np.random.randn(inputs, features)\n",
    "y = np.array([1, 0, 0, 2, 1])"
   ]
  },
  {
   "cell_type": "markdown",
   "metadata": {},
   "source": [
    "## 1-1-2- Forward pass\n",
    "To run the following section, you should complete the loss function in the neural_net.py to compute scores . The output is a 5*3 matrix that contains the class score for each sample."
   ]
  },
  {
   "cell_type": "code",
   "execution_count": 18,
   "metadata": {},
   "outputs": [
    {
     "name": "stdout",
     "output_type": "stream",
     "text": [
      "Your scores:\n",
      " [[ 0.36184508  0.33068664  0.30746828]\n",
      " [ 0.38937282  0.31562306  0.29500413]\n",
      " [ 0.35447415  0.32129818  0.32422767]\n",
      " [ 0.35430402  0.2994841   0.34621188]\n",
      " [ 0.37625563  0.32480227  0.2989421 ]]\n",
      "Predicted labels:\n",
      " [0 0 0 0 0]\n"
     ]
    }
   ],
   "source": [
    "scores = net.loss(X)\n",
    "print ('Your scores:\\n',scores)\n",
    "labels = np.argmax(scores, axis = 1)\n",
    "print ('Predicted labels:\\n',labels)"
   ]
  },
  {
   "cell_type": "markdown",
   "metadata": {},
   "source": [
    "## 1-1-3- Forward pass\n",
    "Now you should complete the second missing part in loss function in the neural_net.py , the output shows the loss of your network"
   ]
  },
  {
   "cell_type": "code",
   "execution_count": 19,
   "metadata": {},
   "outputs": [
    {
     "name": "stdout",
     "output_type": "stream",
     "text": [
      "your network loss is: 1.05644198564\n"
     ]
    }
   ],
   "source": [
    "loss, _ = net.loss(X, y, reg=0.1)\n",
    "print(\"your network loss is:\",loss)"
   ]
  },
  {
   "cell_type": "markdown",
   "metadata": {},
   "source": [
    "## 1-1-4- Backward pass\n",
    "compute the gradient according to weights and biases. "
   ]
  },
  {
   "cell_type": "code",
   "execution_count": 20,
   "metadata": {},
   "outputs": [
    {
     "name": "stdout",
     "output_type": "stream",
     "text": [
      "grads of W1\n",
      " [[-0.0032657  -0.09535607  0.06714312 -0.35016624 -0.05571353  0.02232787\n",
      "   0.18002845 -0.00107651]\n",
      " [ 0.01916394  0.14022657 -0.09268061  0.28604501  0.08546127 -0.12521496\n",
      "  -0.17666587 -0.00155548]\n",
      " [ 0.00609364  0.09573433 -0.0394453   0.25969731  0.05739863 -0.17928681\n",
      "  -0.21567185  0.00071063]\n",
      " [ 0.00705057 -0.14189223  0.01534853 -0.05514271 -0.0877481  -0.13734929\n",
      "  -0.12530604 -0.00056109]]\n",
      "grads of b1\n",
      " [[  7.31765636e-05   3.27354998e-03  -7.24822860e-03  -9.68309148e-03\n",
      "    2.08700438e-03  -2.17951829e-02  -5.58750851e-03   0.00000000e+00]]\n",
      "grads of W2\n",
      " [[  9.03842204e-02  -1.76797980e-02  -7.49080469e-02]\n",
      " [  7.32376225e-02  -5.00497685e-02  -2.40834132e-02]\n",
      " [ -7.63311988e-02  -1.14122429e-01   1.92663639e-01]\n",
      " [  1.25422508e-02  -3.37498519e-03  -9.10959827e-03]\n",
      " [  2.06472210e-01   1.66775406e-01  -3.73642888e-01]\n",
      " [ -2.35188266e-01   1.21011495e-01   1.17014389e-01]\n",
      " [  1.98443013e-01  -3.65494302e-01   1.65856691e-01]\n",
      " [ -3.49342722e-04  -2.08894233e-04   5.86623191e-04]]\n",
      "grads of b2\n",
      " [[-0.03274966 -0.08162115  0.11437081]]\n"
     ]
    }
   ],
   "source": [
    "loss, grads = net.loss(X, y, reg=0.1)\n",
    "print('grads of W1\\n',grads['W1'])\n",
    "print('grads of b1\\n',grads['b1'])\n",
    "print('grads of W2\\n',grads['W2'])\n",
    "print('grads of b2\\n',grads['b2'])"
   ]
  },
  {
   "cell_type": "markdown",
   "metadata": {
    "collapsed": true
   },
   "source": [
    "## 1-1-5- Train the network\n",
    "Fill the missing section in train and predict function of MLPNet class . After you correctly implement those function you build a two layer neural network that can feed data to it. The result of the following section shows Final training loss of your network and training loss versus iteration ."
   ]
  },
  {
   "cell_type": "code",
   "execution_count": 21,
   "metadata": {},
   "outputs": [
    {
     "name": "stdout",
     "output_type": "stream",
     "text": [
      "iteration 0 / 100: loss 1.054433\n",
      "itt 0\n",
      "epoch: 0 , train_accuracy: 0.8 , loss: 1.05443318707\n",
      "epoch: 1 , train_accuracy: 1.0 , loss: 0.942638449979\n",
      "epoch: 2 , train_accuracy: 1.0 , loss: 0.825638793188\n",
      "epoch: 3 , train_accuracy: 1.0 , loss: 0.695375134974\n",
      "epoch: 4 , train_accuracy: 1.0 , loss: 0.578772541256\n",
      "epoch: 5 , train_accuracy: 1.0 , loss: 0.473546954802\n",
      "epoch: 6 , train_accuracy: 1.0 , loss: 0.381194059722\n",
      "epoch: 7 , train_accuracy: 1.0 , loss: 0.305131523425\n",
      "epoch: 8 , train_accuracy: 1.0 , loss: 0.245660232904\n",
      "epoch: 9 , train_accuracy: 1.0 , loss: 0.200407017787\n",
      "epoch: 10 , train_accuracy: 1.0 , loss: 0.166260217721\n",
      "epoch: 11 , train_accuracy: 1.0 , loss: 0.140460808028\n",
      "epoch: 12 , train_accuracy: 1.0 , loss: 0.120790795927\n",
      "epoch: 13 , train_accuracy: 1.0 , loss: 0.10558641511\n",
      "epoch: 14 , train_accuracy: 1.0 , loss: 0.0936479066421\n",
      "epoch: 15 , train_accuracy: 1.0 , loss: 0.0841236624842\n",
      "epoch: 16 , train_accuracy: 1.0 , loss: 0.0764095720133\n",
      "epoch: 17 , train_accuracy: 1.0 , loss: 0.0702450430379\n",
      "epoch: 18 , train_accuracy: 1.0 , loss: 0.0650721965992\n",
      "epoch: 19 , train_accuracy: 1.0 , loss: 0.0605747178025\n",
      "epoch: 20 , train_accuracy: 1.0 , loss: 0.0567661345267\n",
      "epoch: 21 , train_accuracy: 1.0 , loss: 0.053506181342\n",
      "epoch: 22 , train_accuracy: 1.0 , loss: 0.0506903731602\n",
      "epoch: 23 , train_accuracy: 1.0 , loss: 0.048313142719\n",
      "epoch: 24 , train_accuracy: 1.0 , loss: 0.0462130145535\n",
      "epoch: 25 , train_accuracy: 1.0 , loss: 0.0442970525933\n",
      "epoch: 26 , train_accuracy: 1.0 , loss: 0.0426007555198\n",
      "epoch: 27 , train_accuracy: 1.0 , loss: 0.0410905429613\n",
      "epoch: 28 , train_accuracy: 1.0 , loss: 0.039742087972\n",
      "epoch: 29 , train_accuracy: 1.0 , loss: 0.0386016571637\n",
      "epoch: 30 , train_accuracy: 1.0 , loss: 0.0374968953902\n",
      "epoch: 31 , train_accuracy: 1.0 , loss: 0.0364977476521\n",
      "epoch: 32 , train_accuracy: 1.0 , loss: 0.0355909370334\n",
      "epoch: 33 , train_accuracy: 1.0 , loss: 0.0347653190651\n",
      "epoch: 34 , train_accuracy: 1.0 , loss: 0.0340377777756\n",
      "epoch: 35 , train_accuracy: 1.0 , loss: 0.033364557555\n",
      "epoch: 36 , train_accuracy: 1.0 , loss: 0.0327276102774\n",
      "epoch: 37 , train_accuracy: 1.0 , loss: 0.0321421152608\n",
      "epoch: 38 , train_accuracy: 1.0 , loss: 0.0316027733454\n",
      "epoch: 39 , train_accuracy: 1.0 , loss: 0.0311155950646\n",
      "epoch: 40 , train_accuracy: 1.0 , loss: 0.0306744868392\n",
      "epoch: 41 , train_accuracy: 1.0 , loss: 0.0302463208308\n",
      "epoch: 42 , train_accuracy: 1.0 , loss: 0.0298492793089\n",
      "epoch: 43 , train_accuracy: 1.0 , loss: 0.0294805584535\n",
      "epoch: 44 , train_accuracy: 1.0 , loss: 0.0291404155424\n",
      "epoch: 45 , train_accuracy: 1.0 , loss: 0.0288394771653\n",
      "epoch: 46 , train_accuracy: 1.0 , loss: 0.0285408515793\n",
      "epoch: 47 , train_accuracy: 1.0 , loss: 0.0282622129848\n",
      "epoch: 48 , train_accuracy: 1.0 , loss: 0.0280019519086\n",
      "epoch: 49 , train_accuracy: 1.0 , loss: 0.0277586191966\n",
      "epoch: 50 , train_accuracy: 1.0 , loss: 0.0275442143536\n",
      "epoch: 51 , train_accuracy: 1.0 , loss: 0.027331598785\n",
      "epoch: 52 , train_accuracy: 1.0 , loss: 0.0271312087568\n",
      "epoch: 53 , train_accuracy: 1.0 , loss: 0.0269432487017\n",
      "epoch: 54 , train_accuracy: 1.0 , loss: 0.0267668223626\n",
      "epoch: 55 , train_accuracy: 1.0 , loss: 0.0266109614762\n",
      "epoch: 56 , train_accuracy: 1.0 , loss: 0.0264556707255\n",
      "epoch: 57 , train_accuracy: 1.0 , loss: 0.0263089420925\n",
      "epoch: 58 , train_accuracy: 1.0 , loss: 0.0261708888293\n",
      "epoch: 59 , train_accuracy: 1.0 , loss: 0.0260409298306\n",
      "epoch: 60 , train_accuracy: 1.0 , loss: 0.0259261453303\n",
      "epoch: 61 , train_accuracy: 1.0 , loss: 0.0258108790825\n",
      "epoch: 62 , train_accuracy: 1.0 , loss: 0.02570200322\n",
      "epoch: 63 , train_accuracy: 1.0 , loss: 0.0255993283684\n",
      "epoch: 64 , train_accuracy: 1.0 , loss: 0.0255024633971\n",
      "epoch: 65 , train_accuracy: 1.0 , loss: 0.0254171598964\n",
      "epoch: 66 , train_accuracy: 1.0 , loss: 0.0253305172402\n",
      "epoch: 67 , train_accuracy: 1.0 , loss: 0.0252489208173\n",
      "epoch: 68 , train_accuracy: 1.0 , loss: 0.0251718382641\n",
      "epoch: 69 , train_accuracy: 1.0 , loss: 0.0250994476151\n",
      "epoch: 70 , train_accuracy: 1.0 , loss: 0.0250348079197\n",
      "epoch: 71 , train_accuracy: 1.0 , loss: 0.0249696546035\n",
      "epoch: 72 , train_accuracy: 1.0 , loss: 0.0249080393531\n",
      "epoch: 73 , train_accuracy: 1.0 , loss: 0.0248497562587\n",
      "epoch: 74 , train_accuracy: 1.0 , loss: 0.0247946127855\n",
      "epoch: 75 , train_accuracy: 1.0 , loss: 0.0247457456371\n",
      "epoch: 76 , train_accuracy: 1.0 , loss: 0.02469636895\n",
      "epoch: 77 , train_accuracy: 1.0 , loss: 0.0246495782223\n",
      "epoch: 78 , train_accuracy: 1.0 , loss: 0.0246052737423\n",
      "epoch: 79 , train_accuracy: 1.0 , loss: 0.0245634326348\n",
      "epoch: 80 , train_accuracy: 1.0 , loss: 0.0245262738752\n",
      "epoch: 81 , train_accuracy: 1.0 , loss: 0.0244886062919\n",
      "epoch: 82 , train_accuracy: 1.0 , loss: 0.024452917903\n",
      "epoch: 83 , train_accuracy: 1.0 , loss: 0.0244191000697\n",
      "epoch: 84 , train_accuracy: 1.0 , loss: 0.0243870505783\n",
      "epoch: 85 , train_accuracy: 1.0 , loss: 0.0243584954592\n",
      "epoch: 86 , train_accuracy: 1.0 , loss: 0.0243298295805\n",
      "epoch: 87 , train_accuracy: 1.0 , loss: 0.0243025194212\n",
      "epoch: 88 , train_accuracy: 1.0 , loss: 0.0242766255658\n",
      "epoch: 89 , train_accuracy: 1.0 , loss: 0.0242520721159\n",
      "epoch: 90 , train_accuracy: 1.0 , loss: 0.0242303378152\n",
      "epoch: 91 , train_accuracy: 1.0 , loss: 0.0242082029799\n",
      "epoch: 92 , train_accuracy: 1.0 , loss: 0.024187250919\n",
      "epoch: 93 , train_accuracy: 1.0 , loss: 0.0241673765207\n",
      "epoch: 94 , train_accuracy: 1.0 , loss: 0.0241486546684\n",
      "epoch: 95 , train_accuracy: 1.0 , loss: 0.0241318537965\n",
      "epoch: 96 , train_accuracy: 1.0 , loss: 0.0241148794279\n",
      "epoch: 97 , train_accuracy: 1.0 , loss: 0.024098773577\n",
      "epoch: 98 , train_accuracy: 1.0 , loss: 0.0240834908555\n",
      "epoch: 99 , train_accuracy: 1.0 , loss: 0.0240689883405\n",
      "[1 0 0 2 1]\n",
      "Final training loss:  0.0240689883405\n"
     ]
    },
    {
     "data": {
      "image/png": "[encoded data removed]",
      "text/plain": [
       "<matplotlib.figure.Figure at 0xc977438>"
      ]
     },
     "metadata": {},
     "output_type": "display_data"
    }
   ],
   "source": [
    "net = MLPNet(features, hidden_size, classes, std=1e-1)\n",
    "stats = net.train(X, y, X, y,\n",
    "            alpha=1e-1, reg=1e-5,\n",
    "            num_iters=100)\n",
    "print(net.predict(X))\n",
    "print ('Final training loss: ', stats['loss_train'][-1])\n",
    "\n",
    "# plot the loss history\n",
    "plt.plot(stats['loss_train'])#'loss_history'])\n",
    "plt.xlabel('iteration')\n",
    "plt.ylabel('training loss')\n",
    "plt.title('Training Loss history')\n",
    "plt.show()"
   ]
  },
  {
   "cell_type": "markdown",
   "metadata": {},
   "source": [
    "## 1-1-6- Load data MNIST\n",
    "In this section we use a real dataset.change root variable in dataloader.py to your dataset path."
   ]
  },
  {
   "cell_type": "code",
   "execution_count": 1,
   "metadata": {},
   "outputs": [
    {
     "name": "stdout",
     "output_type": "stream",
     "text": [
      "Train data shape:  (49000, 784)\n",
      "Train labels shape:  (49000,)\n",
      "Validation data shape:  (1000, 784)\n",
      "Validation labels shape:  (1000,)\n",
      "Test data shape:  (10000, 784)\n",
      "Test labels shape:  (10000,)\n"
     ]
    }
   ],
   "source": [
    "from dataloader import select_features#from FeatureSelection import select_features \n",
    "import numpy as np\n",
    "import os\n",
    "from scipy.misc import imread\n",
    "#import cv2\n",
    "import matplotlib.pyplot as plt\n",
    "import matplotlib\n",
    "val_num = 1000\n",
    "train_num = 49000\n",
    "test_num = 10000\n",
    "train_data, train_labels, test_data, test_labels,\\\n",
    "    class_names, n_train, n_test, n_class, n_features = select_features()\n",
    "\n",
    "\n",
    "# Subsample the data\n",
    "mask = range(train_num, n_train)\n",
    "X_val = train_data[mask]\n",
    "y_val = train_labels[mask]\n",
    "mask = range(train_num)\n",
    "X_train = train_data[mask]\n",
    "y_train = train_labels[mask]\n",
    "mask = range(test_num)\n",
    "X_test = test_data[mask]\n",
    "y_test = test_labels[mask]\n",
    "\n",
    "# # Normalize the data: subtract the mean image\n",
    "# mean_image = np.mean(X_train, axis=0)\n",
    "# X_train -= mean_image\n",
    "# X_val -= mean_image\n",
    "# X_test -= mean_image\n",
    "\n",
    "print ('Train data shape: ', X_train.shape)\n",
    "print ('Train labels shape: ', y_train.shape)\n",
    "print ('Validation data shape: ', X_val.shape)\n",
    "print ('Validation labels shape: ', y_val.shape)\n",
    "print ('Test data shape: ', X_test.shape)\n",
    "print ('Test labels shape: ', y_test.shape)"
   ]
  },
  {
   "cell_type": "markdown",
   "metadata": {},
   "source": [
    "## 1-1-7- Train \n",
    "For training our neural network we will use SGD(Stochastic Gradient descent).The loss of your network must decrease during epochs."
   ]
  },
  {
   "cell_type": "code",
   "execution_count": 46,
   "metadata": {},
   "outputs": [
    {
     "name": "stdout",
     "output_type": "stream",
     "text": [
      "input size: 784\n",
      "Epoch 0 / 100: loss 2.301794, Accuracy 0.100000 \n",
      "Epoch 1 / 100: loss 2.297791, Accuracy 0.155000 \n",
      "Epoch 2 / 100: loss 2.251283, Accuracy 0.235000 \n",
      "Epoch 3 / 100: loss 2.075299, Accuracy 0.355000 \n",
      "Epoch 4 / 100: loss 1.636135, Accuracy 0.550000 \n",
      "Epoch 5 / 100: loss 1.140711, Accuracy 0.710000 \n",
      "Epoch 6 / 100: loss 0.942256, Accuracy 0.740000 \n",
      "Epoch 7 / 100: loss 0.769115, Accuracy 0.830000 \n",
      "Epoch 8 / 100: loss 0.624033, Accuracy 0.835000 \n",
      "Epoch 9 / 100: loss 0.708330, Accuracy 0.805000 \n",
      "Epoch 10 / 100: loss 0.588977, Accuracy 0.835000 \n",
      "Epoch 11 / 100: loss 0.608429, Accuracy 0.855000 \n",
      "Epoch 12 / 100: loss 0.527557, Accuracy 0.885000 \n",
      "Epoch 13 / 100: loss 0.516613, Accuracy 0.855000 \n",
      "Epoch 14 / 100: loss 0.430567, Accuracy 0.885000 \n",
      "Epoch 15 / 100: loss 0.477115, Accuracy 0.875000 \n",
      "Epoch 16 / 100: loss 0.475402, Accuracy 0.875000 \n",
      "Epoch 17 / 100: loss 0.493130, Accuracy 0.850000 \n",
      "Epoch 18 / 100: loss 0.466557, Accuracy 0.890000 \n",
      "Epoch 19 / 100: loss 0.437135, Accuracy 0.865000 \n",
      "Epoch 20 / 100: loss 0.530106, Accuracy 0.880000 \n",
      "Epoch 21 / 100: loss 0.486895, Accuracy 0.870000 \n",
      "Epoch 22 / 100: loss 0.550552, Accuracy 0.880000 \n",
      "Epoch 23 / 100: loss 0.429900, Accuracy 0.895000 \n",
      "Epoch 24 / 100: loss 0.385802, Accuracy 0.890000 \n",
      "Epoch 25 / 100: loss 0.429493, Accuracy 0.895000 \n",
      "Epoch 26 / 100: loss 0.350647, Accuracy 0.910000 \n",
      "Epoch 27 / 100: loss 0.511086, Accuracy 0.870000 \n",
      "Epoch 28 / 100: loss 0.373737, Accuracy 0.890000 \n",
      "Epoch 29 / 100: loss 0.337007, Accuracy 0.930000 \n",
      "Epoch 30 / 100: loss 0.349685, Accuracy 0.905000 \n",
      "Epoch 31 / 100: loss 0.330362, Accuracy 0.920000 \n",
      "Epoch 32 / 100: loss 0.407462, Accuracy 0.895000 \n",
      "Epoch 33 / 100: loss 0.476076, Accuracy 0.885000 \n",
      "Epoch 34 / 100: loss 0.413432, Accuracy 0.920000 \n",
      "Epoch 35 / 100: loss 0.475385, Accuracy 0.875000 \n",
      "Epoch 36 / 100: loss 0.304063, Accuracy 0.915000 \n",
      "Epoch 37 / 100: loss 0.409530, Accuracy 0.910000 \n",
      "Epoch 38 / 100: loss 0.410887, Accuracy 0.905000 \n",
      "Epoch 39 / 100: loss 0.376965, Accuracy 0.905000 \n",
      "Epoch 40 / 100: loss 0.299446, Accuracy 0.920000 \n",
      "Epoch 41 / 100: loss 0.497033, Accuracy 0.880000 \n",
      "Epoch 42 / 100: loss 0.381707, Accuracy 0.905000 \n",
      "Epoch 43 / 100: loss 0.412873, Accuracy 0.900000 \n",
      "Epoch 44 / 100: loss 0.429552, Accuracy 0.895000 \n",
      "Epoch 45 / 100: loss 0.351371, Accuracy 0.925000 \n",
      "Epoch 46 / 100: loss 0.381513, Accuracy 0.920000 \n",
      "Epoch 47 / 100: loss 0.398477, Accuracy 0.910000 \n",
      "Epoch 48 / 100: loss 0.293124, Accuracy 0.950000 \n",
      "Epoch 49 / 100: loss 0.383967, Accuracy 0.925000 \n",
      "Epoch 50 / 100: loss 0.410581, Accuracy 0.895000 \n",
      "Epoch 51 / 100: loss 0.331857, Accuracy 0.935000 \n",
      "Epoch 52 / 100: loss 0.375800, Accuracy 0.920000 \n",
      "Epoch 53 / 100: loss 0.302410, Accuracy 0.940000 \n",
      "Epoch 54 / 100: loss 0.408925, Accuracy 0.890000 \n",
      "Epoch 55 / 100: loss 0.283657, Accuracy 0.935000 \n",
      "Epoch 56 / 100: loss 0.336234, Accuracy 0.895000 \n",
      "Epoch 57 / 100: loss 0.332674, Accuracy 0.935000 \n",
      "Epoch 58 / 100: loss 0.350067, Accuracy 0.935000 \n",
      "Epoch 59 / 100: loss 0.385857, Accuracy 0.910000 \n",
      "Epoch 60 / 100: loss 0.387349, Accuracy 0.910000 \n",
      "Epoch 61 / 100: loss 0.359639, Accuracy 0.925000 \n",
      "Epoch 62 / 100: loss 0.328220, Accuracy 0.935000 \n",
      "Epoch 63 / 100: loss 0.286681, Accuracy 0.935000 \n",
      "Epoch 64 / 100: loss 0.380289, Accuracy 0.930000 \n",
      "Epoch 65 / 100: loss 0.340263, Accuracy 0.930000 \n",
      "Epoch 66 / 100: loss 0.372233, Accuracy 0.920000 \n",
      "Epoch 67 / 100: loss 0.437586, Accuracy 0.900000 \n",
      "Epoch 68 / 100: loss 0.315311, Accuracy 0.945000 \n",
      "Epoch 69 / 100: loss 0.320089, Accuracy 0.925000 \n",
      "Epoch 70 / 100: loss 0.319506, Accuracy 0.915000 \n",
      "Epoch 71 / 100: loss 0.331948, Accuracy 0.910000 \n",
      "Epoch 72 / 100: loss 0.295848, Accuracy 0.930000 \n",
      "Epoch 73 / 100: loss 0.307677, Accuracy 0.950000 \n",
      "Epoch 74 / 100: loss 0.358989, Accuracy 0.940000 \n",
      "Epoch 75 / 100: loss 0.310411, Accuracy 0.925000 \n",
      "Epoch 76 / 100: loss 0.399278, Accuracy 0.895000 \n",
      "Epoch 77 / 100: loss 0.354181, Accuracy 0.930000 \n",
      "Epoch 78 / 100: loss 0.389289, Accuracy 0.905000 \n",
      "Epoch 79 / 100: loss 0.351786, Accuracy 0.945000 \n",
      "Epoch 80 / 100: loss 0.345232, Accuracy 0.910000 \n",
      "Epoch 81 / 100: loss 0.408538, Accuracy 0.920000 \n",
      "Epoch 82 / 100: loss 0.358284, Accuracy 0.915000 \n",
      "Epoch 83 / 100: loss 0.339618, Accuracy 0.925000 \n",
      "Epoch 84 / 100: loss 0.397977, Accuracy 0.930000 \n",
      "Epoch 85 / 100: loss 0.389742, Accuracy 0.905000 \n",
      "Epoch 86 / 100: loss 0.232640, Accuracy 0.960000 \n",
      "Epoch 87 / 100: loss 0.379479, Accuracy 0.915000 \n",
      "Epoch 88 / 100: loss 0.294024, Accuracy 0.940000 \n",
      "Epoch 89 / 100: loss 0.308315, Accuracy 0.940000 \n",
      "Epoch 90 / 100: loss 0.308365, Accuracy 0.950000 \n",
      "Epoch 91 / 100: loss 0.344380, Accuracy 0.925000 \n",
      "Epoch 92 / 100: loss 0.269703, Accuracy 0.945000 \n",
      "Epoch 93 / 100: loss 0.295982, Accuracy 0.935000 \n",
      "Epoch 94 / 100: loss 0.264006, Accuracy 0.935000 \n",
      "Epoch 95 / 100: loss 0.262827, Accuracy 0.945000 \n",
      "Epoch 96 / 100: loss 0.292263, Accuracy 0.950000 \n",
      "Epoch 97 / 100: loss 0.268486, Accuracy 0.940000 \n",
      "Epoch 98 / 100: loss 0.382497, Accuracy 0.900000 \n",
      "Epoch 99 / 100: loss 0.276237, Accuracy 0.965000 \n",
      "Validation accuracy:  0.933\n"
     ]
    }
   ],
   "source": [
    "input_size = n_features\n",
    "print(\"input size:\", input_size)\n",
    "hidden_size = 500\n",
    "num_classes = 10\n",
    "net = MLPNet(input_size, hidden_size, num_classes,std=1e-2)\n",
    "\n",
    "# Train the network\n",
    "# وقتی نرخ را برابر یک ده هزارم گذاشتیم بماند اصلا همگرا نمی شد، با زیاد کردن نرخ به یک صدم در ایپاک های اولیه همگرایی شروع شد\n",
    "stats = net.train(X_train, y_train, X_val, y_val,\n",
    "            num_iters=100, batch_size=200,\n",
    "            alpha=1e-2, alpha_decay=0.95,\n",
    "            reg=0.5, verbose=True) \n",
    "\n",
    "# Predict on the validation set\n",
    "val_acc = (net.predict(X_val) == y_val).mean()\n",
    "print ('Validation accuracy: ', val_acc)\n"
   ]
  },
  {
   "cell_type": "markdown",
   "metadata": {},
   "source": [
    "the below plots show loss during epochs and training and validatino accuracy versus epochs. The loss should decreas over time. ***according to second plot what is the best iteration number to terminate training?***"
   ]
  },
  {
   "cell_type": "markdown",
   "metadata": {},
   "source": [
    "جواب در داکیومنت ضمیمه شده می باشد"
   ]
  },
  {
   "cell_type": "code",
   "execution_count": 47,
   "metadata": {},
   "outputs": [
    {
     "data": {
      "image/png": "[encoded data removed]",
      "text/plain": [
       "<matplotlib.figure.Figure at 0xc9fb668>"
      ]
     },
     "metadata": {},
     "output_type": "display_data"
    },
    {
     "name": "stdout",
     "output_type": "stream",
     "text": [
      "\n"
     ]
    },
    {
     "data": {
      "image/png": "[encoded data removed]",
      "text/plain": [
       "<matplotlib.figure.Figure at 0x14f68d68>"
      ]
     },
     "metadata": {},
     "output_type": "display_data"
    },
    {
     "name": "stdout",
     "output_type": "stream",
     "text": [
      "\n"
     ]
    },
    {
     "data": {
      "image/png": "[encoded data removed]",
      "text/plain": [
       "<matplotlib.figure.Figure at 0x9860128>"
      ]
     },
     "metadata": {},
     "output_type": "display_data"
    }
   ],
   "source": [
    "# Plot the loss function and train / validation accuracies\n",
    "plt.subplot(2, 1, 1)\n",
    "plt.plot(stats['loss_train'])\n",
    "plt.title('Training Loss') # Loss')\n",
    "plt.xlabel('Itteration')\n",
    "plt.ylabel('Loss')\n",
    "plt.show() # اضافه شده\n",
    "print() # اضافه شده\n",
    "\n",
    "plt.subplot(2, 1, 2)\n",
    "plt.plot(stats['train_acc'], label='train')\n",
    "plt.title('Training Accuracy') # اضافه شده\n",
    "plt.xlabel('Epoch') # اضافه شده\n",
    "plt.ylabel('Accuracy') # اضافه شده\n",
    "plt.show() # اضافه شده\n",
    "print() # اضافه شده\n",
    "\n",
    "plt.plot(stats['va_acc'], label='val') # ['val_acc']\n",
    "plt.title('Classification accuracy ')\n",
    "plt.xlabel('Epoch')\n",
    "plt.ylabel('Accuracy')\n",
    "plt.show()"
   ]
  },
  {
   "cell_type": "markdown",
   "metadata": {},
   "source": [
    "## 1-1-8- Tune network's hyperparameters\n",
    "As you know hidden layer size, learning rate and weight regularization are important in developing a neural network so you should tune them and get a better result and report the best hyperparameters."
   ]
  },
  {
   "cell_type": "code",
   "execution_count": 49,
   "metadata": {},
   "outputs": [
    {
     "name": "stdout",
     "output_type": "stream",
     "text": [
      "\n",
      "hidden_size: 50, learning_rate: 0.000100, regularization_weight: 0.100000\n",
      "Validation accuracy:  0.1\n",
      "\n",
      "hidden_size: 50, learning_rate: 0.000100, regularization_weight: 0.300000\n",
      "Validation accuracy:  0.1\n",
      "\n",
      "hidden_size: 50, learning_rate: 0.000100, regularization_weight: 0.500000\n",
      "Validation accuracy:  0.1\n",
      "\n",
      "hidden_size: 50, learning_rate: 0.000100, regularization_weight: 0.700000\n",
      "Validation accuracy:  0.1\n",
      "\n",
      "hidden_size: 50, learning_rate: 0.001000, regularization_weight: 0.100000\n",
      "Validation accuracy:  0.1\n",
      "\n",
      "hidden_size: 50, learning_rate: 0.001000, regularization_weight: 0.300000\n",
      "Validation accuracy:  0.1\n",
      "\n",
      "hidden_size: 50, learning_rate: 0.001000, regularization_weight: 0.500000\n",
      "Validation accuracy:  0.1\n",
      "\n",
      "hidden_size: 50, learning_rate: 0.001000, regularization_weight: 0.700000\n",
      "Validation accuracy:  0.1\n",
      "\n",
      "hidden_size: 50, learning_rate: 0.010000, regularization_weight: 0.100000\n",
      "Validation accuracy:  0.806\n",
      "\n",
      "hidden_size: 50, learning_rate: 0.010000, regularization_weight: 0.300000\n",
      "Validation accuracy:  0.807\n",
      "\n",
      "hidden_size: 50, learning_rate: 0.010000, regularization_weight: 0.500000\n",
      "Validation accuracy:  0.807\n",
      "\n",
      "hidden_size: 50, learning_rate: 0.010000, regularization_weight: 0.700000\n",
      "Validation accuracy:  0.807\n",
      "\n",
      "hidden_size: 50, learning_rate: 0.100000, regularization_weight: 0.100000\n",
      "Validation accuracy:  0.926\n",
      "\n",
      "hidden_size: 50, learning_rate: 0.100000, regularization_weight: 0.300000\n",
      "Validation accuracy:  0.925\n",
      "\n",
      "hidden_size: 50, learning_rate: 0.100000, regularization_weight: 0.500000\n",
      "Validation accuracy:  0.928\n",
      "\n",
      "hidden_size: 50, learning_rate: 0.100000, regularization_weight: 0.700000\n",
      "Validation accuracy:  0.926\n",
      "\n",
      "hidden_size: 100, learning_rate: 0.000100, regularization_weight: 0.100000\n",
      "Validation accuracy:  0.1\n",
      "\n",
      "hidden_size: 100, learning_rate: 0.000100, regularization_weight: 0.300000\n",
      "Validation accuracy:  0.1\n",
      "\n",
      "hidden_size: 100, learning_rate: 0.000100, regularization_weight: 0.500000\n",
      "Validation accuracy:  0.1\n",
      "\n",
      "hidden_size: 100, learning_rate: 0.000100, regularization_weight: 0.700000\n",
      "Validation accuracy:  0.1\n",
      "\n",
      "hidden_size: 100, learning_rate: 0.001000, regularization_weight: 0.100000\n",
      "Validation accuracy:  0.1\n",
      "\n",
      "hidden_size: 100, learning_rate: 0.001000, regularization_weight: 0.300000\n",
      "Validation accuracy:  0.1\n",
      "\n",
      "hidden_size: 100, learning_rate: 0.001000, regularization_weight: 0.500000\n",
      "Validation accuracy:  0.1\n",
      "\n",
      "hidden_size: 100, learning_rate: 0.001000, regularization_weight: 0.700000\n",
      "Validation accuracy:  0.1\n",
      "\n",
      "hidden_size: 100, learning_rate: 0.010000, regularization_weight: 0.100000\n",
      "Validation accuracy:  0.804\n",
      "\n",
      "hidden_size: 100, learning_rate: 0.010000, regularization_weight: 0.300000\n",
      "Validation accuracy:  0.804\n",
      "\n",
      "hidden_size: 100, learning_rate: 0.010000, regularization_weight: 0.500000\n",
      "Validation accuracy:  0.804\n",
      "\n",
      "hidden_size: 100, learning_rate: 0.010000, regularization_weight: 0.700000\n",
      "Validation accuracy:  0.804\n",
      "\n",
      "hidden_size: 100, learning_rate: 0.100000, regularization_weight: 0.100000\n",
      "Validation accuracy:  0.935\n",
      "\n",
      "hidden_size: 100, learning_rate: 0.100000, regularization_weight: 0.300000\n",
      "Validation accuracy:  0.933\n",
      "\n",
      "hidden_size: 100, learning_rate: 0.100000, regularization_weight: 0.500000\n",
      "Validation accuracy:  0.93\n",
      "\n",
      "hidden_size: 100, learning_rate: 0.100000, regularization_weight: 0.700000\n",
      "Validation accuracy:  0.926\n",
      "\n",
      "hidden_size: 200, learning_rate: 0.000100, regularization_weight: 0.100000\n",
      "Validation accuracy:  0.1\n",
      "\n",
      "hidden_size: 200, learning_rate: 0.000100, regularization_weight: 0.300000\n",
      "Validation accuracy:  0.1\n",
      "\n",
      "hidden_size: 200, learning_rate: 0.000100, regularization_weight: 0.500000\n",
      "Validation accuracy:  0.1\n",
      "\n",
      "hidden_size: 200, learning_rate: 0.000100, regularization_weight: 0.700000\n",
      "Validation accuracy:  0.1\n",
      "\n",
      "hidden_size: 200, learning_rate: 0.001000, regularization_weight: 0.100000\n",
      "Validation accuracy:  0.1\n",
      "\n",
      "hidden_size: 200, learning_rate: 0.001000, regularization_weight: 0.300000\n",
      "Validation accuracy:  0.1\n",
      "\n",
      "hidden_size: 200, learning_rate: 0.001000, regularization_weight: 0.500000\n",
      "Validation accuracy:  0.1\n",
      "\n",
      "hidden_size: 200, learning_rate: 0.001000, regularization_weight: 0.700000\n",
      "Validation accuracy:  0.1\n",
      "\n",
      "hidden_size: 200, learning_rate: 0.010000, regularization_weight: 0.100000\n",
      "Validation accuracy:  0.814\n",
      "\n",
      "hidden_size: 200, learning_rate: 0.010000, regularization_weight: 0.300000\n",
      "Validation accuracy:  0.814\n",
      "\n",
      "hidden_size: 200, learning_rate: 0.010000, regularization_weight: 0.500000\n",
      "Validation accuracy:  0.813\n",
      "\n",
      "hidden_size: 200, learning_rate: 0.010000, regularization_weight: 0.700000\n",
      "Validation accuracy:  0.812\n",
      "\n",
      "hidden_size: 200, learning_rate: 0.100000, regularization_weight: 0.100000\n",
      "Validation accuracy:  0.943\n",
      "\n",
      "hidden_size: 200, learning_rate: 0.100000, regularization_weight: 0.300000\n",
      "Validation accuracy:  0.94\n",
      "\n",
      "hidden_size: 200, learning_rate: 0.100000, regularization_weight: 0.500000\n",
      "Validation accuracy:  0.935\n",
      "\n",
      "hidden_size: 200, learning_rate: 0.100000, regularization_weight: 0.700000\n",
      "Validation accuracy:  0.933\n",
      "\n",
      "hidden_size: 300, learning_rate: 0.000100, regularization_weight: 0.100000\n",
      "Validation accuracy:  0.1\n",
      "\n",
      "hidden_size: 300, learning_rate: 0.000100, regularization_weight: 0.300000\n",
      "Validation accuracy:  0.1\n",
      "\n",
      "hidden_size: 300, learning_rate: 0.000100, regularization_weight: 0.500000\n",
      "Validation accuracy:  0.1\n",
      "\n",
      "hidden_size: 300, learning_rate: 0.000100, regularization_weight: 0.700000\n",
      "Validation accuracy:  0.1\n",
      "\n",
      "hidden_size: 300, learning_rate: 0.001000, regularization_weight: 0.100000\n",
      "Validation accuracy:  0.1\n",
      "\n",
      "hidden_size: 300, learning_rate: 0.001000, regularization_weight: 0.300000\n",
      "Validation accuracy:  0.1\n",
      "\n",
      "hidden_size: 300, learning_rate: 0.001000, regularization_weight: 0.500000\n",
      "Validation accuracy:  0.1\n",
      "\n",
      "hidden_size: 300, learning_rate: 0.001000, regularization_weight: 0.700000\n",
      "Validation accuracy:  0.1\n",
      "\n",
      "hidden_size: 300, learning_rate: 0.010000, regularization_weight: 0.100000\n",
      "Validation accuracy:  0.806\n",
      "\n",
      "hidden_size: 300, learning_rate: 0.010000, regularization_weight: 0.300000\n",
      "Validation accuracy:  0.805\n",
      "\n",
      "hidden_size: 300, learning_rate: 0.010000, regularization_weight: 0.500000\n",
      "Validation accuracy:  0.805\n",
      "\n",
      "hidden_size: 300, learning_rate: 0.010000, regularization_weight: 0.700000\n",
      "Validation accuracy:  0.805\n",
      "\n",
      "hidden_size: 300, learning_rate: 0.100000, regularization_weight: 0.100000\n",
      "Validation accuracy:  0.936\n",
      "\n",
      "hidden_size: 300, learning_rate: 0.100000, regularization_weight: 0.300000\n",
      "Validation accuracy:  0.935\n",
      "\n",
      "hidden_size: 300, learning_rate: 0.100000, regularization_weight: 0.500000\n",
      "Validation accuracy:  0.93\n",
      "\n",
      "hidden_size: 300, learning_rate: 0.100000, regularization_weight: 0.700000\n",
      "Validation accuracy:  0.927\n",
      "\n",
      "hidden_size: 500, learning_rate: 0.000100, regularization_weight: 0.100000\n",
      "Validation accuracy:  0.1\n",
      "\n",
      "hidden_size: 500, learning_rate: 0.000100, regularization_weight: 0.300000\n",
      "Validation accuracy:  0.1\n",
      "\n",
      "hidden_size: 500, learning_rate: 0.000100, regularization_weight: 0.500000\n",
      "Validation accuracy:  0.1\n",
      "\n",
      "hidden_size: 500, learning_rate: 0.000100, regularization_weight: 0.700000\n",
      "Validation accuracy:  0.1\n",
      "\n",
      "hidden_size: 500, learning_rate: 0.001000, regularization_weight: 0.100000\n",
      "Validation accuracy:  0.1\n",
      "\n",
      "hidden_size: 500, learning_rate: 0.001000, regularization_weight: 0.300000\n",
      "Validation accuracy:  0.1\n",
      "\n",
      "hidden_size: 500, learning_rate: 0.001000, regularization_weight: 0.500000\n",
      "Validation accuracy:  0.1\n",
      "\n",
      "hidden_size: 500, learning_rate: 0.001000, regularization_weight: 0.700000\n",
      "Validation accuracy:  0.1\n",
      "\n",
      "hidden_size: 500, learning_rate: 0.010000, regularization_weight: 0.100000\n",
      "Validation accuracy:  0.818\n",
      "\n",
      "hidden_size: 500, learning_rate: 0.010000, regularization_weight: 0.300000\n",
      "Validation accuracy:  0.815\n",
      "\n",
      "hidden_size: 500, learning_rate: 0.010000, regularization_weight: 0.500000\n",
      "Validation accuracy:  0.812\n",
      "\n",
      "hidden_size: 500, learning_rate: 0.010000, regularization_weight: 0.700000\n",
      "Validation accuracy:  0.81\n",
      "\n",
      "hidden_size: 500, learning_rate: 0.100000, regularization_weight: 0.100000\n",
      "Validation accuracy:  0.943\n",
      "\n",
      "hidden_size: 500, learning_rate: 0.100000, regularization_weight: 0.300000\n",
      "Validation accuracy:  0.939\n",
      "\n",
      "hidden_size: 500, learning_rate: 0.100000, regularization_weight: 0.500000\n",
      "Validation accuracy:  0.933\n",
      "\n",
      "hidden_size: 500, learning_rate: 0.100000, regularization_weight: 0.700000\n",
      "Validation accuracy:  0.93\n"
     ]
    }
   ],
   "source": [
    "best_net = None # store the best model into this \n",
    "#################################################################################\n",
    "# Tune hyperparameters with validation set and store your best model in best_net#\n",
    "#################################################################################\n",
    "best_val_acc = 0\n",
    "for hidden_size in [50, 100, 200, 300, 500]:\n",
    "    for alpha in [0.0001, 0.001, 0.01, 0.1]:\n",
    "        for reg in [0.1, 0.3, 0.5,  0.7]:\n",
    "            print('\\nhidden_size: %d, learning_rate: %f, regularization_weight: %f' %(hidden_size, alpha, reg))\n",
    "            net = MLPNet(n_features, hidden_size, num_classes,std=1e-2)\n",
    "            stats = net.train(X_train, y_train, X_val, y_val,\n",
    "                        num_iters=10, batch_size=200,\n",
    "                        alpha=alpha, alpha_decay=0.95,\n",
    "                        reg=reg)\n",
    "            val_acc = (net.predict(X_val) == y_val).mean()\n",
    "            print ('Validation accuracy: ', val_acc)\n",
    "            \n",
    "            if(val_acc > best_val_acc):\n",
    "                best_val_acc = val_acc\n",
    "                best_net = net\n",
    "#################################################################################\n",
    "#                                END OF YOUR CODE                               #\n",
    "#################################################################################\n"
   ]
  },
  {
   "cell_type": "markdown",
   "metadata": {},
   "source": [
    "## 1-1-9- Test\n",
    "Now you find the best hyperparameters, Let's test your network on test dataset and evaluate your accuracy.\n",
    "**our baseline is 47% and for each 1% you get 1 extra bonus point**"
   ]
  },
  {
   "cell_type": "code",
   "execution_count": 19,
   "metadata": {},
   "outputs": [
    {
     "name": "stdout",
     "output_type": "stream",
     "text": [
      "Test accuracy:  0.9625\n"
     ]
    }
   ],
   "source": [
    "#بهترین پارامترهای یافت شده با 10 مرحله تکرار که البته ساده ترین معماری(کمترین تعداد نرون لایه میانی) را هم داشته باشد\n",
    "# Validation accuracy:  0.943\n",
    "hidden_size = 200\n",
    "learning_rate = 0.1\n",
    "reg = 0.1\n",
    "\n",
    "# مرحله قبل فقط هدف یافتن بهترین معماری با ساده ترین شکل بود و لذا برای صرفه جویی در زمان فقط 10 مرتبه نمونه ها \n",
    "# را از شبکه عبور دادیم. اما اینجا ساده ترین معماری با بهترین دقت را که پیدا کردیم را سعی کنیم با تکرار به اندازه کافی\n",
    "# که اینجا 50 تکرار است، به خوبی آموزش دهیم\n",
    "num_iters = 50\n",
    "\n",
    "best_net = MLPNet(n_features, hidden_size, 10,std=1e-2)\n",
    "best_net.train(X_train, y_train, X_val, y_val,\n",
    "                        num_iters=num_iters, batch_size=200,\n",
    "                        alpha=learning_rate, alpha_decay=0.95,\n",
    "                        reg=reg)\n",
    "\n",
    "#-------------------------------------------------------\n",
    "test_acc = (best_net.predict(X_test) == y_test).mean()\n",
    "print ('Test accuracy: ', test_acc)"
   ]
  },
  {
   "cell_type": "markdown",
   "metadata": {},
   "source": [
    "## 1-2-1- Scikit-learn without normalization\n",
    "In this section you become familiar with Scikit-learn and implement an MLP network with that. Find the best parameters for best accuracy"
   ]
  },
  {
   "cell_type": "code",
   "execution_count": 2,
   "metadata": {},
   "outputs": [
    {
     "name": "stdout",
     "output_type": "stream",
     "text": [
      "Fitting 3 folds for each of 27 candidates, totalling 81 fits\n",
      "[CV] alpha=0.1, hidden_layer_sizes=(100,), learning_rate_init=0.1 ....\n"
     ]
    },
    {
     "name": "stderr",
     "output_type": "stream",
     "text": [
      "C:\\ProgramData\\Anaconda3\\lib\\site-packages\\sklearn\\neural_network\\multilayer_perceptron.py:564: ConvergenceWarning: Stochastic Optimizer: Maximum iterations (10) reached and the optimization hasn't converged yet.\n",
      "  % self.max_iter, ConvergenceWarning)\n"
     ]
    },
    {
     "name": "stdout",
     "output_type": "stream",
     "text": [
      "[CV]  alpha=0.1, hidden_layer_sizes=(100,), learning_rate_init=0.1, total=  11.7s\n",
      "[CV] alpha=0.1, hidden_layer_sizes=(100,), learning_rate_init=0.1 ....\n"
     ]
    },
    {
     "name": "stderr",
     "output_type": "stream",
     "text": [
      "[Parallel(n_jobs=1)]: Done   1 out of   1 | elapsed:   12.0s remaining:    0.0s\n",
      "C:\\ProgramData\\Anaconda3\\lib\\site-packages\\sklearn\\neural_network\\multilayer_perceptron.py:564: ConvergenceWarning: Stochastic Optimizer: Maximum iterations (10) reached and the optimization hasn't converged yet.\n",
      "  % self.max_iter, ConvergenceWarning)\n"
     ]
    },
    {
     "name": "stdout",
     "output_type": "stream",
     "text": [
      "[CV]  alpha=0.1, hidden_layer_sizes=(100,), learning_rate_init=0.1, total=  10.2s\n",
      "[CV] alpha=0.1, hidden_layer_sizes=(100,), learning_rate_init=0.1 ....\n"
     ]
    },
    {
     "name": "stderr",
     "output_type": "stream",
     "text": [
      "C:\\ProgramData\\Anaconda3\\lib\\site-packages\\sklearn\\neural_network\\multilayer_perceptron.py:564: ConvergenceWarning: Stochastic Optimizer: Maximum iterations (10) reached and the optimization hasn't converged yet.\n",
      "  % self.max_iter, ConvergenceWarning)\n"
     ]
    },
    {
     "name": "stdout",
     "output_type": "stream",
     "text": [
      "[CV]  alpha=0.1, hidden_layer_sizes=(100,), learning_rate_init=0.1, total=  10.5s\n",
      "[CV] alpha=0.1, hidden_layer_sizes=(100,), learning_rate_init=0.01 ...\n"
     ]
    },
    {
     "name": "stderr",
     "output_type": "stream",
     "text": [
      "C:\\ProgramData\\Anaconda3\\lib\\site-packages\\sklearn\\neural_network\\multilayer_perceptron.py:564: ConvergenceWarning: Stochastic Optimizer: Maximum iterations (10) reached and the optimization hasn't converged yet.\n",
      "  % self.max_iter, ConvergenceWarning)\n"
     ]
    },
    {
     "name": "stdout",
     "output_type": "stream",
     "text": [
      "[CV]  alpha=0.1, hidden_layer_sizes=(100,), learning_rate_init=0.01, total=   9.9s\n",
      "[CV] alpha=0.1, hidden_layer_sizes=(100,), learning_rate_init=0.01 ...\n"
     ]
    },
    {
     "name": "stderr",
     "output_type": "stream",
     "text": [
      "C:\\ProgramData\\Anaconda3\\lib\\site-packages\\sklearn\\neural_network\\multilayer_perceptron.py:564: ConvergenceWarning: Stochastic Optimizer: Maximum iterations (10) reached and the optimization hasn't converged yet.\n",
      "  % self.max_iter, ConvergenceWarning)\n"
     ]
    },
    {
     "name": "stdout",
     "output_type": "stream",
     "text": [
      "[CV]  alpha=0.1, hidden_layer_sizes=(100,), learning_rate_init=0.01, total=  10.5s\n",
      "[CV] alpha=0.1, hidden_layer_sizes=(100,), learning_rate_init=0.01 ...\n"
     ]
    },
    {
     "name": "stderr",
     "output_type": "stream",
     "text": [
      "C:\\ProgramData\\Anaconda3\\lib\\site-packages\\sklearn\\neural_network\\multilayer_perceptron.py:564: ConvergenceWarning: Stochastic Optimizer: Maximum iterations (10) reached and the optimization hasn't converged yet.\n",
      "  % self.max_iter, ConvergenceWarning)\n"
     ]
    },
    {
     "name": "stdout",
     "output_type": "stream",
     "text": [
      "[CV]  alpha=0.1, hidden_layer_sizes=(100,), learning_rate_init=0.01, total=  10.6s\n",
      "[CV] alpha=0.1, hidden_layer_sizes=(100,), learning_rate_init=0.0001 .\n"
     ]
    },
    {
     "name": "stderr",
     "output_type": "stream",
     "text": [
      "C:\\ProgramData\\Anaconda3\\lib\\site-packages\\sklearn\\neural_network\\multilayer_perceptron.py:564: ConvergenceWarning: Stochastic Optimizer: Maximum iterations (10) reached and the optimization hasn't converged yet.\n",
      "  % self.max_iter, ConvergenceWarning)\n"
     ]
    },
    {
     "name": "stdout",
     "output_type": "stream",
     "text": [
      "[CV]  alpha=0.1, hidden_layer_sizes=(100,), learning_rate_init=0.0001, total=  11.0s\n",
      "[CV] alpha=0.1, hidden_layer_sizes=(100,), learning_rate_init=0.0001 .\n"
     ]
    },
    {
     "name": "stderr",
     "output_type": "stream",
     "text": [
      "C:\\ProgramData\\Anaconda3\\lib\\site-packages\\sklearn\\neural_network\\multilayer_perceptron.py:564: ConvergenceWarning: Stochastic Optimizer: Maximum iterations (10) reached and the optimization hasn't converged yet.\n",
      "  % self.max_iter, ConvergenceWarning)\n"
     ]
    },
    {
     "name": "stdout",
     "output_type": "stream",
     "text": [
      "[CV]  alpha=0.1, hidden_layer_sizes=(100,), learning_rate_init=0.0001, total=  12.0s\n",
      "[CV] alpha=0.1, hidden_layer_sizes=(100,), learning_rate_init=0.0001 .\n"
     ]
    },
    {
     "name": "stderr",
     "output_type": "stream",
     "text": [
      "C:\\ProgramData\\Anaconda3\\lib\\site-packages\\sklearn\\neural_network\\multilayer_perceptron.py:564: ConvergenceWarning: Stochastic Optimizer: Maximum iterations (10) reached and the optimization hasn't converged yet.\n",
      "  % self.max_iter, ConvergenceWarning)\n"
     ]
    },
    {
     "name": "stdout",
     "output_type": "stream",
     "text": [
      "[CV]  alpha=0.1, hidden_layer_sizes=(100,), learning_rate_init=0.0001, total=  11.8s\n",
      "[CV] alpha=0.1, hidden_layer_sizes=(200,), learning_rate_init=0.1 ....\n"
     ]
    },
    {
     "name": "stderr",
     "output_type": "stream",
     "text": [
      "C:\\ProgramData\\Anaconda3\\lib\\site-packages\\sklearn\\neural_network\\multilayer_perceptron.py:564: ConvergenceWarning: Stochastic Optimizer: Maximum iterations (10) reached and the optimization hasn't converged yet.\n",
      "  % self.max_iter, ConvergenceWarning)\n"
     ]
    },
    {
     "name": "stdout",
     "output_type": "stream",
     "text": [
      "[CV]  alpha=0.1, hidden_layer_sizes=(200,), learning_rate_init=0.1, total=  23.0s\n",
      "[CV] alpha=0.1, hidden_layer_sizes=(200,), learning_rate_init=0.1 ....\n"
     ]
    },
    {
     "name": "stderr",
     "output_type": "stream",
     "text": [
      "C:\\ProgramData\\Anaconda3\\lib\\site-packages\\sklearn\\neural_network\\multilayer_perceptron.py:564: ConvergenceWarning: Stochastic Optimizer: Maximum iterations (10) reached and the optimization hasn't converged yet.\n",
      "  % self.max_iter, ConvergenceWarning)\n"
     ]
    },
    {
     "name": "stdout",
     "output_type": "stream",
     "text": [
      "[CV]  alpha=0.1, hidden_layer_sizes=(200,), learning_rate_init=0.1, total=  23.1s\n",
      "[CV] alpha=0.1, hidden_layer_sizes=(200,), learning_rate_init=0.1 ....\n"
     ]
    },
    {
     "name": "stderr",
     "output_type": "stream",
     "text": [
      "C:\\ProgramData\\Anaconda3\\lib\\site-packages\\sklearn\\neural_network\\multilayer_perceptron.py:564: ConvergenceWarning: Stochastic Optimizer: Maximum iterations (10) reached and the optimization hasn't converged yet.\n",
      "  % self.max_iter, ConvergenceWarning)\n"
     ]
    },
    {
     "name": "stdout",
     "output_type": "stream",
     "text": [
      "[CV]  alpha=0.1, hidden_layer_sizes=(200,), learning_rate_init=0.1, total=  21.8s\n",
      "[CV] alpha=0.1, hidden_layer_sizes=(200,), learning_rate_init=0.01 ...\n"
     ]
    },
    {
     "name": "stderr",
     "output_type": "stream",
     "text": [
      "C:\\ProgramData\\Anaconda3\\lib\\site-packages\\sklearn\\neural_network\\multilayer_perceptron.py:564: ConvergenceWarning: Stochastic Optimizer: Maximum iterations (10) reached and the optimization hasn't converged yet.\n",
      "  % self.max_iter, ConvergenceWarning)\n"
     ]
    },
    {
     "name": "stdout",
     "output_type": "stream",
     "text": [
      "[CV]  alpha=0.1, hidden_layer_sizes=(200,), learning_rate_init=0.01, total=  20.9s\n",
      "[CV] alpha=0.1, hidden_layer_sizes=(200,), learning_rate_init=0.01 ...\n"
     ]
    },
    {
     "name": "stderr",
     "output_type": "stream",
     "text": [
      "C:\\ProgramData\\Anaconda3\\lib\\site-packages\\sklearn\\neural_network\\multilayer_perceptron.py:564: ConvergenceWarning: Stochastic Optimizer: Maximum iterations (10) reached and the optimization hasn't converged yet.\n",
      "  % self.max_iter, ConvergenceWarning)\n"
     ]
    },
    {
     "name": "stdout",
     "output_type": "stream",
     "text": [
      "[CV]  alpha=0.1, hidden_layer_sizes=(200,), learning_rate_init=0.01, total=  20.4s\n",
      "[CV] alpha=0.1, hidden_layer_sizes=(200,), learning_rate_init=0.01 ...\n"
     ]
    },
    {
     "name": "stderr",
     "output_type": "stream",
     "text": [
      "C:\\ProgramData\\Anaconda3\\lib\\site-packages\\sklearn\\neural_network\\multilayer_perceptron.py:564: ConvergenceWarning: Stochastic Optimizer: Maximum iterations (10) reached and the optimization hasn't converged yet.\n",
      "  % self.max_iter, ConvergenceWarning)\n"
     ]
    },
    {
     "name": "stdout",
     "output_type": "stream",
     "text": [
      "[CV]  alpha=0.1, hidden_layer_sizes=(200,), learning_rate_init=0.01, total=  20.7s\n",
      "[CV] alpha=0.1, hidden_layer_sizes=(200,), learning_rate_init=0.0001 .\n"
     ]
    },
    {
     "name": "stderr",
     "output_type": "stream",
     "text": [
      "C:\\ProgramData\\Anaconda3\\lib\\site-packages\\sklearn\\neural_network\\multilayer_perceptron.py:564: ConvergenceWarning: Stochastic Optimizer: Maximum iterations (10) reached and the optimization hasn't converged yet.\n",
      "  % self.max_iter, ConvergenceWarning)\n"
     ]
    },
    {
     "name": "stdout",
     "output_type": "stream",
     "text": [
      "[CV]  alpha=0.1, hidden_layer_sizes=(200,), learning_rate_init=0.0001, total=  20.3s\n",
      "[CV] alpha=0.1, hidden_layer_sizes=(200,), learning_rate_init=0.0001 .\n"
     ]
    },
    {
     "name": "stderr",
     "output_type": "stream",
     "text": [
      "C:\\ProgramData\\Anaconda3\\lib\\site-packages\\sklearn\\neural_network\\multilayer_perceptron.py:564: ConvergenceWarning: Stochastic Optimizer: Maximum iterations (10) reached and the optimization hasn't converged yet.\n",
      "  % self.max_iter, ConvergenceWarning)\n"
     ]
    },
    {
     "name": "stdout",
     "output_type": "stream",
     "text": [
      "[CV]  alpha=0.1, hidden_layer_sizes=(200,), learning_rate_init=0.0001, total=  20.5s\n",
      "[CV] alpha=0.1, hidden_layer_sizes=(200,), learning_rate_init=0.0001 .\n"
     ]
    },
    {
     "name": "stderr",
     "output_type": "stream",
     "text": [
      "C:\\ProgramData\\Anaconda3\\lib\\site-packages\\sklearn\\neural_network\\multilayer_perceptron.py:564: ConvergenceWarning: Stochastic Optimizer: Maximum iterations (10) reached and the optimization hasn't converged yet.\n",
      "  % self.max_iter, ConvergenceWarning)\n"
     ]
    },
    {
     "name": "stdout",
     "output_type": "stream",
     "text": [
      "[CV]  alpha=0.1, hidden_layer_sizes=(200,), learning_rate_init=0.0001, total=  20.9s\n",
      "[CV] alpha=0.1, hidden_layer_sizes=(400,), learning_rate_init=0.1 ....\n"
     ]
    },
    {
     "name": "stderr",
     "output_type": "stream",
     "text": [
      "C:\\ProgramData\\Anaconda3\\lib\\site-packages\\sklearn\\neural_network\\multilayer_perceptron.py:564: ConvergenceWarning: Stochastic Optimizer: Maximum iterations (10) reached and the optimization hasn't converged yet.\n",
      "  % self.max_iter, ConvergenceWarning)\n"
     ]
    },
    {
     "name": "stdout",
     "output_type": "stream",
     "text": [
      "[CV]  alpha=0.1, hidden_layer_sizes=(400,), learning_rate_init=0.1, total=  39.8s\n",
      "[CV] alpha=0.1, hidden_layer_sizes=(400,), learning_rate_init=0.1 ....\n"
     ]
    },
    {
     "name": "stderr",
     "output_type": "stream",
     "text": [
      "C:\\ProgramData\\Anaconda3\\lib\\site-packages\\sklearn\\neural_network\\multilayer_perceptron.py:564: ConvergenceWarning: Stochastic Optimizer: Maximum iterations (10) reached and the optimization hasn't converged yet.\n",
      "  % self.max_iter, ConvergenceWarning)\n"
     ]
    },
    {
     "name": "stdout",
     "output_type": "stream",
     "text": [
      "[CV]  alpha=0.1, hidden_layer_sizes=(400,), learning_rate_init=0.1, total=  39.2s\n",
      "[CV] alpha=0.1, hidden_layer_sizes=(400,), learning_rate_init=0.1 ....\n"
     ]
    },
    {
     "name": "stderr",
     "output_type": "stream",
     "text": [
      "C:\\ProgramData\\Anaconda3\\lib\\site-packages\\sklearn\\neural_network\\multilayer_perceptron.py:564: ConvergenceWarning: Stochastic Optimizer: Maximum iterations (10) reached and the optimization hasn't converged yet.\n",
      "  % self.max_iter, ConvergenceWarning)\n"
     ]
    },
    {
     "name": "stdout",
     "output_type": "stream",
     "text": [
      "[CV]  alpha=0.1, hidden_layer_sizes=(400,), learning_rate_init=0.1, total=  39.0s\n",
      "[CV] alpha=0.1, hidden_layer_sizes=(400,), learning_rate_init=0.01 ...\n"
     ]
    },
    {
     "name": "stderr",
     "output_type": "stream",
     "text": [
      "C:\\ProgramData\\Anaconda3\\lib\\site-packages\\sklearn\\neural_network\\multilayer_perceptron.py:564: ConvergenceWarning: Stochastic Optimizer: Maximum iterations (10) reached and the optimization hasn't converged yet.\n",
      "  % self.max_iter, ConvergenceWarning)\n"
     ]
    },
    {
     "name": "stdout",
     "output_type": "stream",
     "text": [
      "[CV]  alpha=0.1, hidden_layer_sizes=(400,), learning_rate_init=0.01, total=  39.8s\n",
      "[CV] alpha=0.1, hidden_layer_sizes=(400,), learning_rate_init=0.01 ...\n"
     ]
    },
    {
     "name": "stderr",
     "output_type": "stream",
     "text": [
      "C:\\ProgramData\\Anaconda3\\lib\\site-packages\\sklearn\\neural_network\\multilayer_perceptron.py:564: ConvergenceWarning: Stochastic Optimizer: Maximum iterations (10) reached and the optimization hasn't converged yet.\n",
      "  % self.max_iter, ConvergenceWarning)\n"
     ]
    },
    {
     "name": "stdout",
     "output_type": "stream",
     "text": [
      "[CV]  alpha=0.1, hidden_layer_sizes=(400,), learning_rate_init=0.01, total=  39.9s\n",
      "[CV] alpha=0.1, hidden_layer_sizes=(400,), learning_rate_init=0.01 ...\n"
     ]
    },
    {
     "name": "stderr",
     "output_type": "stream",
     "text": [
      "C:\\ProgramData\\Anaconda3\\lib\\site-packages\\sklearn\\neural_network\\multilayer_perceptron.py:564: ConvergenceWarning: Stochastic Optimizer: Maximum iterations (10) reached and the optimization hasn't converged yet.\n",
      "  % self.max_iter, ConvergenceWarning)\n"
     ]
    },
    {
     "name": "stdout",
     "output_type": "stream",
     "text": [
      "[CV]  alpha=0.1, hidden_layer_sizes=(400,), learning_rate_init=0.01, total=  39.1s\n",
      "[CV] alpha=0.1, hidden_layer_sizes=(400,), learning_rate_init=0.0001 .\n"
     ]
    },
    {
     "name": "stderr",
     "output_type": "stream",
     "text": [
      "C:\\ProgramData\\Anaconda3\\lib\\site-packages\\sklearn\\neural_network\\multilayer_perceptron.py:564: ConvergenceWarning: Stochastic Optimizer: Maximum iterations (10) reached and the optimization hasn't converged yet.\n",
      "  % self.max_iter, ConvergenceWarning)\n"
     ]
    },
    {
     "name": "stdout",
     "output_type": "stream",
     "text": [
      "[CV]  alpha=0.1, hidden_layer_sizes=(400,), learning_rate_init=0.0001, total=  41.2s\n",
      "[CV] alpha=0.1, hidden_layer_sizes=(400,), learning_rate_init=0.0001 .\n"
     ]
    },
    {
     "name": "stderr",
     "output_type": "stream",
     "text": [
      "C:\\ProgramData\\Anaconda3\\lib\\site-packages\\sklearn\\neural_network\\multilayer_perceptron.py:564: ConvergenceWarning: Stochastic Optimizer: Maximum iterations (10) reached and the optimization hasn't converged yet.\n",
      "  % self.max_iter, ConvergenceWarning)\n"
     ]
    },
    {
     "name": "stdout",
     "output_type": "stream",
     "text": [
      "[CV]  alpha=0.1, hidden_layer_sizes=(400,), learning_rate_init=0.0001, total=  39.4s\n",
      "[CV] alpha=0.1, hidden_layer_sizes=(400,), learning_rate_init=0.0001 .\n"
     ]
    },
    {
     "name": "stderr",
     "output_type": "stream",
     "text": [
      "C:\\ProgramData\\Anaconda3\\lib\\site-packages\\sklearn\\neural_network\\multilayer_perceptron.py:564: ConvergenceWarning: Stochastic Optimizer: Maximum iterations (10) reached and the optimization hasn't converged yet.\n",
      "  % self.max_iter, ConvergenceWarning)\n"
     ]
    },
    {
     "name": "stdout",
     "output_type": "stream",
     "text": [
      "[CV]  alpha=0.1, hidden_layer_sizes=(400,), learning_rate_init=0.0001, total=  46.8s\n",
      "[CV] alpha=0.3, hidden_layer_sizes=(100,), learning_rate_init=0.1 ....\n"
     ]
    },
    {
     "name": "stderr",
     "output_type": "stream",
     "text": [
      "C:\\ProgramData\\Anaconda3\\lib\\site-packages\\sklearn\\neural_network\\multilayer_perceptron.py:564: ConvergenceWarning: Stochastic Optimizer: Maximum iterations (10) reached and the optimization hasn't converged yet.\n",
      "  % self.max_iter, ConvergenceWarning)\n"
     ]
    },
    {
     "name": "stdout",
     "output_type": "stream",
     "text": [
      "[CV]  alpha=0.3, hidden_layer_sizes=(100,), learning_rate_init=0.1, total=  10.7s\n",
      "[CV] alpha=0.3, hidden_layer_sizes=(100,), learning_rate_init=0.1 ....\n"
     ]
    },
    {
     "name": "stderr",
     "output_type": "stream",
     "text": [
      "C:\\ProgramData\\Anaconda3\\lib\\site-packages\\sklearn\\neural_network\\multilayer_perceptron.py:564: ConvergenceWarning: Stochastic Optimizer: Maximum iterations (10) reached and the optimization hasn't converged yet.\n",
      "  % self.max_iter, ConvergenceWarning)\n"
     ]
    },
    {
     "name": "stdout",
     "output_type": "stream",
     "text": [
      "[CV]  alpha=0.3, hidden_layer_sizes=(100,), learning_rate_init=0.1, total=  10.4s\n",
      "[CV] alpha=0.3, hidden_layer_sizes=(100,), learning_rate_init=0.1 ....\n"
     ]
    },
    {
     "name": "stderr",
     "output_type": "stream",
     "text": [
      "C:\\ProgramData\\Anaconda3\\lib\\site-packages\\sklearn\\neural_network\\multilayer_perceptron.py:564: ConvergenceWarning: Stochastic Optimizer: Maximum iterations (10) reached and the optimization hasn't converged yet.\n",
      "  % self.max_iter, ConvergenceWarning)\n"
     ]
    },
    {
     "name": "stdout",
     "output_type": "stream",
     "text": [
      "[CV]  alpha=0.3, hidden_layer_sizes=(100,), learning_rate_init=0.1, total=  10.0s\n",
      "[CV] alpha=0.3, hidden_layer_sizes=(100,), learning_rate_init=0.01 ...\n"
     ]
    },
    {
     "name": "stderr",
     "output_type": "stream",
     "text": [
      "C:\\ProgramData\\Anaconda3\\lib\\site-packages\\sklearn\\neural_network\\multilayer_perceptron.py:564: ConvergenceWarning: Stochastic Optimizer: Maximum iterations (10) reached and the optimization hasn't converged yet.\n",
      "  % self.max_iter, ConvergenceWarning)\n"
     ]
    },
    {
     "name": "stdout",
     "output_type": "stream",
     "text": [
      "[CV]  alpha=0.3, hidden_layer_sizes=(100,), learning_rate_init=0.01, total=   9.9s\n",
      "[CV] alpha=0.3, hidden_layer_sizes=(100,), learning_rate_init=0.01 ...\n"
     ]
    },
    {
     "name": "stderr",
     "output_type": "stream",
     "text": [
      "C:\\ProgramData\\Anaconda3\\lib\\site-packages\\sklearn\\neural_network\\multilayer_perceptron.py:564: ConvergenceWarning: Stochastic Optimizer: Maximum iterations (10) reached and the optimization hasn't converged yet.\n",
      "  % self.max_iter, ConvergenceWarning)\n"
     ]
    },
    {
     "name": "stdout",
     "output_type": "stream",
     "text": [
      "[CV]  alpha=0.3, hidden_layer_sizes=(100,), learning_rate_init=0.01, total=  10.4s\n",
      "[CV] alpha=0.3, hidden_layer_sizes=(100,), learning_rate_init=0.01 ...\n"
     ]
    },
    {
     "name": "stderr",
     "output_type": "stream",
     "text": [
      "C:\\ProgramData\\Anaconda3\\lib\\site-packages\\sklearn\\neural_network\\multilayer_perceptron.py:564: ConvergenceWarning: Stochastic Optimizer: Maximum iterations (10) reached and the optimization hasn't converged yet.\n",
      "  % self.max_iter, ConvergenceWarning)\n"
     ]
    },
    {
     "name": "stdout",
     "output_type": "stream",
     "text": [
      "[CV]  alpha=0.3, hidden_layer_sizes=(100,), learning_rate_init=0.01, total=  10.4s\n",
      "[CV] alpha=0.3, hidden_layer_sizes=(100,), learning_rate_init=0.0001 .\n"
     ]
    },
    {
     "name": "stderr",
     "output_type": "stream",
     "text": [
      "C:\\ProgramData\\Anaconda3\\lib\\site-packages\\sklearn\\neural_network\\multilayer_perceptron.py:564: ConvergenceWarning: Stochastic Optimizer: Maximum iterations (10) reached and the optimization hasn't converged yet.\n",
      "  % self.max_iter, ConvergenceWarning)\n"
     ]
    },
    {
     "name": "stdout",
     "output_type": "stream",
     "text": [
      "[CV]  alpha=0.3, hidden_layer_sizes=(100,), learning_rate_init=0.0001, total=  10.3s\n",
      "[CV] alpha=0.3, hidden_layer_sizes=(100,), learning_rate_init=0.0001 .\n"
     ]
    },
    {
     "name": "stderr",
     "output_type": "stream",
     "text": [
      "C:\\ProgramData\\Anaconda3\\lib\\site-packages\\sklearn\\neural_network\\multilayer_perceptron.py:564: ConvergenceWarning: Stochastic Optimizer: Maximum iterations (10) reached and the optimization hasn't converged yet.\n",
      "  % self.max_iter, ConvergenceWarning)\n"
     ]
    },
    {
     "name": "stdout",
     "output_type": "stream",
     "text": [
      "[CV]  alpha=0.3, hidden_layer_sizes=(100,), learning_rate_init=0.0001, total=  10.9s\n",
      "[CV] alpha=0.3, hidden_layer_sizes=(100,), learning_rate_init=0.0001 .\n"
     ]
    },
    {
     "name": "stderr",
     "output_type": "stream",
     "text": [
      "C:\\ProgramData\\Anaconda3\\lib\\site-packages\\sklearn\\neural_network\\multilayer_perceptron.py:564: ConvergenceWarning: Stochastic Optimizer: Maximum iterations (10) reached and the optimization hasn't converged yet.\n",
      "  % self.max_iter, ConvergenceWarning)\n"
     ]
    },
    {
     "name": "stdout",
     "output_type": "stream",
     "text": [
      "[CV]  alpha=0.3, hidden_layer_sizes=(100,), learning_rate_init=0.0001, total=  11.6s\n",
      "[CV] alpha=0.3, hidden_layer_sizes=(200,), learning_rate_init=0.1 ....\n"
     ]
    },
    {
     "name": "stderr",
     "output_type": "stream",
     "text": [
      "C:\\ProgramData\\Anaconda3\\lib\\site-packages\\sklearn\\neural_network\\multilayer_perceptron.py:564: ConvergenceWarning: Stochastic Optimizer: Maximum iterations (10) reached and the optimization hasn't converged yet.\n",
      "  % self.max_iter, ConvergenceWarning)\n"
     ]
    },
    {
     "name": "stdout",
     "output_type": "stream",
     "text": [
      "[CV]  alpha=0.3, hidden_layer_sizes=(200,), learning_rate_init=0.1, total=  24.5s\n",
      "[CV] alpha=0.3, hidden_layer_sizes=(200,), learning_rate_init=0.1 ....\n"
     ]
    },
    {
     "name": "stderr",
     "output_type": "stream",
     "text": [
      "C:\\ProgramData\\Anaconda3\\lib\\site-packages\\sklearn\\neural_network\\multilayer_perceptron.py:564: ConvergenceWarning: Stochastic Optimizer: Maximum iterations (10) reached and the optimization hasn't converged yet.\n",
      "  % self.max_iter, ConvergenceWarning)\n"
     ]
    },
    {
     "name": "stdout",
     "output_type": "stream",
     "text": [
      "[CV]  alpha=0.3, hidden_layer_sizes=(200,), learning_rate_init=0.1, total=  22.7s\n",
      "[CV] alpha=0.3, hidden_layer_sizes=(200,), learning_rate_init=0.1 ....\n"
     ]
    },
    {
     "name": "stderr",
     "output_type": "stream",
     "text": [
      "C:\\ProgramData\\Anaconda3\\lib\\site-packages\\sklearn\\neural_network\\multilayer_perceptron.py:564: ConvergenceWarning: Stochastic Optimizer: Maximum iterations (10) reached and the optimization hasn't converged yet.\n",
      "  % self.max_iter, ConvergenceWarning)\n"
     ]
    },
    {
     "name": "stdout",
     "output_type": "stream",
     "text": [
      "[CV]  alpha=0.3, hidden_layer_sizes=(200,), learning_rate_init=0.1, total=  21.7s\n",
      "[CV] alpha=0.3, hidden_layer_sizes=(200,), learning_rate_init=0.01 ...\n"
     ]
    },
    {
     "name": "stderr",
     "output_type": "stream",
     "text": [
      "C:\\ProgramData\\Anaconda3\\lib\\site-packages\\sklearn\\neural_network\\multilayer_perceptron.py:564: ConvergenceWarning: Stochastic Optimizer: Maximum iterations (10) reached and the optimization hasn't converged yet.\n",
      "  % self.max_iter, ConvergenceWarning)\n"
     ]
    },
    {
     "name": "stdout",
     "output_type": "stream",
     "text": [
      "[CV]  alpha=0.3, hidden_layer_sizes=(200,), learning_rate_init=0.01, total=  22.2s\n",
      "[CV] alpha=0.3, hidden_layer_sizes=(200,), learning_rate_init=0.01 ...\n"
     ]
    },
    {
     "name": "stderr",
     "output_type": "stream",
     "text": [
      "C:\\ProgramData\\Anaconda3\\lib\\site-packages\\sklearn\\neural_network\\multilayer_perceptron.py:564: ConvergenceWarning: Stochastic Optimizer: Maximum iterations (10) reached and the optimization hasn't converged yet.\n",
      "  % self.max_iter, ConvergenceWarning)\n"
     ]
    },
    {
     "name": "stdout",
     "output_type": "stream",
     "text": [
      "[CV]  alpha=0.3, hidden_layer_sizes=(200,), learning_rate_init=0.01, total=  22.7s\n",
      "[CV] alpha=0.3, hidden_layer_sizes=(200,), learning_rate_init=0.01 ...\n"
     ]
    },
    {
     "name": "stderr",
     "output_type": "stream",
     "text": [
      "C:\\ProgramData\\Anaconda3\\lib\\site-packages\\sklearn\\neural_network\\multilayer_perceptron.py:564: ConvergenceWarning: Stochastic Optimizer: Maximum iterations (10) reached and the optimization hasn't converged yet.\n",
      "  % self.max_iter, ConvergenceWarning)\n"
     ]
    },
    {
     "name": "stdout",
     "output_type": "stream",
     "text": [
      "[CV]  alpha=0.3, hidden_layer_sizes=(200,), learning_rate_init=0.01, total=  22.1s\n",
      "[CV] alpha=0.3, hidden_layer_sizes=(200,), learning_rate_init=0.0001 .\n"
     ]
    },
    {
     "name": "stderr",
     "output_type": "stream",
     "text": [
      "C:\\ProgramData\\Anaconda3\\lib\\site-packages\\sklearn\\neural_network\\multilayer_perceptron.py:564: ConvergenceWarning: Stochastic Optimizer: Maximum iterations (10) reached and the optimization hasn't converged yet.\n",
      "  % self.max_iter, ConvergenceWarning)\n"
     ]
    },
    {
     "name": "stdout",
     "output_type": "stream",
     "text": [
      "[CV]  alpha=0.3, hidden_layer_sizes=(200,), learning_rate_init=0.0001, total=  22.3s\n",
      "[CV] alpha=0.3, hidden_layer_sizes=(200,), learning_rate_init=0.0001 .\n"
     ]
    },
    {
     "name": "stderr",
     "output_type": "stream",
     "text": [
      "C:\\ProgramData\\Anaconda3\\lib\\site-packages\\sklearn\\neural_network\\multilayer_perceptron.py:564: ConvergenceWarning: Stochastic Optimizer: Maximum iterations (10) reached and the optimization hasn't converged yet.\n",
      "  % self.max_iter, ConvergenceWarning)\n"
     ]
    },
    {
     "name": "stdout",
     "output_type": "stream",
     "text": [
      "[CV]  alpha=0.3, hidden_layer_sizes=(200,), learning_rate_init=0.0001, total=  24.6s\n",
      "[CV] alpha=0.3, hidden_layer_sizes=(200,), learning_rate_init=0.0001 .\n"
     ]
    },
    {
     "name": "stderr",
     "output_type": "stream",
     "text": [
      "C:\\ProgramData\\Anaconda3\\lib\\site-packages\\sklearn\\neural_network\\multilayer_perceptron.py:564: ConvergenceWarning: Stochastic Optimizer: Maximum iterations (10) reached and the optimization hasn't converged yet.\n",
      "  % self.max_iter, ConvergenceWarning)\n"
     ]
    },
    {
     "name": "stdout",
     "output_type": "stream",
     "text": [
      "[CV]  alpha=0.3, hidden_layer_sizes=(200,), learning_rate_init=0.0001, total=  22.5s\n",
      "[CV] alpha=0.3, hidden_layer_sizes=(400,), learning_rate_init=0.1 ....\n"
     ]
    },
    {
     "name": "stderr",
     "output_type": "stream",
     "text": [
      "C:\\ProgramData\\Anaconda3\\lib\\site-packages\\sklearn\\neural_network\\multilayer_perceptron.py:564: ConvergenceWarning: Stochastic Optimizer: Maximum iterations (10) reached and the optimization hasn't converged yet.\n",
      "  % self.max_iter, ConvergenceWarning)\n"
     ]
    },
    {
     "name": "stdout",
     "output_type": "stream",
     "text": [
      "[CV]  alpha=0.3, hidden_layer_sizes=(400,), learning_rate_init=0.1, total=  48.2s\n",
      "[CV] alpha=0.3, hidden_layer_sizes=(400,), learning_rate_init=0.1 ....\n"
     ]
    },
    {
     "name": "stderr",
     "output_type": "stream",
     "text": [
      "C:\\ProgramData\\Anaconda3\\lib\\site-packages\\sklearn\\neural_network\\multilayer_perceptron.py:564: ConvergenceWarning: Stochastic Optimizer: Maximum iterations (10) reached and the optimization hasn't converged yet.\n",
      "  % self.max_iter, ConvergenceWarning)\n"
     ]
    },
    {
     "name": "stdout",
     "output_type": "stream",
     "text": [
      "[CV]  alpha=0.3, hidden_layer_sizes=(400,), learning_rate_init=0.1, total=  46.0s\n",
      "[CV] alpha=0.3, hidden_layer_sizes=(400,), learning_rate_init=0.1 ....\n"
     ]
    },
    {
     "name": "stderr",
     "output_type": "stream",
     "text": [
      "C:\\ProgramData\\Anaconda3\\lib\\site-packages\\sklearn\\neural_network\\multilayer_perceptron.py:564: ConvergenceWarning: Stochastic Optimizer: Maximum iterations (10) reached and the optimization hasn't converged yet.\n",
      "  % self.max_iter, ConvergenceWarning)\n"
     ]
    },
    {
     "name": "stdout",
     "output_type": "stream",
     "text": [
      "[CV]  alpha=0.3, hidden_layer_sizes=(400,), learning_rate_init=0.1, total=  44.0s\n",
      "[CV] alpha=0.3, hidden_layer_sizes=(400,), learning_rate_init=0.01 ...\n"
     ]
    },
    {
     "name": "stderr",
     "output_type": "stream",
     "text": [
      "C:\\ProgramData\\Anaconda3\\lib\\site-packages\\sklearn\\neural_network\\multilayer_perceptron.py:564: ConvergenceWarning: Stochastic Optimizer: Maximum iterations (10) reached and the optimization hasn't converged yet.\n",
      "  % self.max_iter, ConvergenceWarning)\n"
     ]
    },
    {
     "name": "stdout",
     "output_type": "stream",
     "text": [
      "[CV]  alpha=0.3, hidden_layer_sizes=(400,), learning_rate_init=0.01, total=  42.1s\n",
      "[CV] alpha=0.3, hidden_layer_sizes=(400,), learning_rate_init=0.01 ...\n"
     ]
    },
    {
     "name": "stderr",
     "output_type": "stream",
     "text": [
      "C:\\ProgramData\\Anaconda3\\lib\\site-packages\\sklearn\\neural_network\\multilayer_perceptron.py:564: ConvergenceWarning: Stochastic Optimizer: Maximum iterations (10) reached and the optimization hasn't converged yet.\n",
      "  % self.max_iter, ConvergenceWarning)\n"
     ]
    },
    {
     "name": "stdout",
     "output_type": "stream",
     "text": [
      "[CV]  alpha=0.3, hidden_layer_sizes=(400,), learning_rate_init=0.01, total=  44.0s\n",
      "[CV] alpha=0.3, hidden_layer_sizes=(400,), learning_rate_init=0.01 ...\n"
     ]
    },
    {
     "name": "stderr",
     "output_type": "stream",
     "text": [
      "C:\\ProgramData\\Anaconda3\\lib\\site-packages\\sklearn\\neural_network\\multilayer_perceptron.py:564: ConvergenceWarning: Stochastic Optimizer: Maximum iterations (10) reached and the optimization hasn't converged yet.\n",
      "  % self.max_iter, ConvergenceWarning)\n"
     ]
    },
    {
     "name": "stdout",
     "output_type": "stream",
     "text": [
      "[CV]  alpha=0.3, hidden_layer_sizes=(400,), learning_rate_init=0.01, total=  41.1s\n",
      "[CV] alpha=0.3, hidden_layer_sizes=(400,), learning_rate_init=0.0001 .\n"
     ]
    },
    {
     "name": "stderr",
     "output_type": "stream",
     "text": [
      "C:\\ProgramData\\Anaconda3\\lib\\site-packages\\sklearn\\neural_network\\multilayer_perceptron.py:564: ConvergenceWarning: Stochastic Optimizer: Maximum iterations (10) reached and the optimization hasn't converged yet.\n",
      "  % self.max_iter, ConvergenceWarning)\n"
     ]
    },
    {
     "name": "stdout",
     "output_type": "stream",
     "text": [
      "[CV]  alpha=0.3, hidden_layer_sizes=(400,), learning_rate_init=0.0001, total=  41.5s\n",
      "[CV] alpha=0.3, hidden_layer_sizes=(400,), learning_rate_init=0.0001 .\n"
     ]
    },
    {
     "name": "stderr",
     "output_type": "stream",
     "text": [
      "C:\\ProgramData\\Anaconda3\\lib\\site-packages\\sklearn\\neural_network\\multilayer_perceptron.py:564: ConvergenceWarning: Stochastic Optimizer: Maximum iterations (10) reached and the optimization hasn't converged yet.\n",
      "  % self.max_iter, ConvergenceWarning)\n"
     ]
    },
    {
     "name": "stdout",
     "output_type": "stream",
     "text": [
      "[CV]  alpha=0.3, hidden_layer_sizes=(400,), learning_rate_init=0.0001, total=  41.0s\n",
      "[CV] alpha=0.3, hidden_layer_sizes=(400,), learning_rate_init=0.0001 .\n"
     ]
    },
    {
     "name": "stderr",
     "output_type": "stream",
     "text": [
      "C:\\ProgramData\\Anaconda3\\lib\\site-packages\\sklearn\\neural_network\\multilayer_perceptron.py:564: ConvergenceWarning: Stochastic Optimizer: Maximum iterations (10) reached and the optimization hasn't converged yet.\n",
      "  % self.max_iter, ConvergenceWarning)\n"
     ]
    },
    {
     "name": "stdout",
     "output_type": "stream",
     "text": [
      "[CV]  alpha=0.3, hidden_layer_sizes=(400,), learning_rate_init=0.0001, total=  42.4s\n",
      "[CV] alpha=0.5, hidden_layer_sizes=(100,), learning_rate_init=0.1 ....\n"
     ]
    },
    {
     "name": "stderr",
     "output_type": "stream",
     "text": [
      "C:\\ProgramData\\Anaconda3\\lib\\site-packages\\sklearn\\neural_network\\multilayer_perceptron.py:564: ConvergenceWarning: Stochastic Optimizer: Maximum iterations (10) reached and the optimization hasn't converged yet.\n",
      "  % self.max_iter, ConvergenceWarning)\n"
     ]
    },
    {
     "name": "stdout",
     "output_type": "stream",
     "text": [
      "[CV]  alpha=0.5, hidden_layer_sizes=(100,), learning_rate_init=0.1, total=  11.4s\n",
      "[CV] alpha=0.5, hidden_layer_sizes=(100,), learning_rate_init=0.1 ....\n"
     ]
    },
    {
     "name": "stderr",
     "output_type": "stream",
     "text": [
      "C:\\ProgramData\\Anaconda3\\lib\\site-packages\\sklearn\\neural_network\\multilayer_perceptron.py:564: ConvergenceWarning: Stochastic Optimizer: Maximum iterations (10) reached and the optimization hasn't converged yet.\n",
      "  % self.max_iter, ConvergenceWarning)\n"
     ]
    },
    {
     "name": "stdout",
     "output_type": "stream",
     "text": [
      "[CV]  alpha=0.5, hidden_layer_sizes=(100,), learning_rate_init=0.1, total=  10.8s\n",
      "[CV] alpha=0.5, hidden_layer_sizes=(100,), learning_rate_init=0.1 ....\n"
     ]
    },
    {
     "name": "stderr",
     "output_type": "stream",
     "text": [
      "C:\\ProgramData\\Anaconda3\\lib\\site-packages\\sklearn\\neural_network\\multilayer_perceptron.py:564: ConvergenceWarning: Stochastic Optimizer: Maximum iterations (10) reached and the optimization hasn't converged yet.\n",
      "  % self.max_iter, ConvergenceWarning)\n"
     ]
    },
    {
     "name": "stdout",
     "output_type": "stream",
     "text": [
      "[CV]  alpha=0.5, hidden_layer_sizes=(100,), learning_rate_init=0.1, total=  12.0s\n",
      "[CV] alpha=0.5, hidden_layer_sizes=(100,), learning_rate_init=0.01 ...\n"
     ]
    },
    {
     "name": "stderr",
     "output_type": "stream",
     "text": [
      "C:\\ProgramData\\Anaconda3\\lib\\site-packages\\sklearn\\neural_network\\multilayer_perceptron.py:564: ConvergenceWarning: Stochastic Optimizer: Maximum iterations (10) reached and the optimization hasn't converged yet.\n",
      "  % self.max_iter, ConvergenceWarning)\n"
     ]
    },
    {
     "name": "stdout",
     "output_type": "stream",
     "text": [
      "[CV]  alpha=0.5, hidden_layer_sizes=(100,), learning_rate_init=0.01, total=  10.8s\n",
      "[CV] alpha=0.5, hidden_layer_sizes=(100,), learning_rate_init=0.01 ...\n"
     ]
    },
    {
     "name": "stderr",
     "output_type": "stream",
     "text": [
      "C:\\ProgramData\\Anaconda3\\lib\\site-packages\\sklearn\\neural_network\\multilayer_perceptron.py:564: ConvergenceWarning: Stochastic Optimizer: Maximum iterations (10) reached and the optimization hasn't converged yet.\n",
      "  % self.max_iter, ConvergenceWarning)\n"
     ]
    },
    {
     "name": "stdout",
     "output_type": "stream",
     "text": [
      "[CV]  alpha=0.5, hidden_layer_sizes=(100,), learning_rate_init=0.01, total=  10.0s\n",
      "[CV] alpha=0.5, hidden_layer_sizes=(100,), learning_rate_init=0.01 ...\n"
     ]
    },
    {
     "name": "stderr",
     "output_type": "stream",
     "text": [
      "C:\\ProgramData\\Anaconda3\\lib\\site-packages\\sklearn\\neural_network\\multilayer_perceptron.py:564: ConvergenceWarning: Stochastic Optimizer: Maximum iterations (10) reached and the optimization hasn't converged yet.\n",
      "  % self.max_iter, ConvergenceWarning)\n"
     ]
    },
    {
     "name": "stdout",
     "output_type": "stream",
     "text": [
      "[CV]  alpha=0.5, hidden_layer_sizes=(100,), learning_rate_init=0.01, total=  10.4s\n",
      "[CV] alpha=0.5, hidden_layer_sizes=(100,), learning_rate_init=0.0001 .\n"
     ]
    },
    {
     "name": "stderr",
     "output_type": "stream",
     "text": [
      "C:\\ProgramData\\Anaconda3\\lib\\site-packages\\sklearn\\neural_network\\multilayer_perceptron.py:564: ConvergenceWarning: Stochastic Optimizer: Maximum iterations (10) reached and the optimization hasn't converged yet.\n",
      "  % self.max_iter, ConvergenceWarning)\n"
     ]
    },
    {
     "name": "stdout",
     "output_type": "stream",
     "text": [
      "[CV]  alpha=0.5, hidden_layer_sizes=(100,), learning_rate_init=0.0001, total=  10.8s\n",
      "[CV] alpha=0.5, hidden_layer_sizes=(100,), learning_rate_init=0.0001 .\n"
     ]
    },
    {
     "name": "stderr",
     "output_type": "stream",
     "text": [
      "C:\\ProgramData\\Anaconda3\\lib\\site-packages\\sklearn\\neural_network\\multilayer_perceptron.py:564: ConvergenceWarning: Stochastic Optimizer: Maximum iterations (10) reached and the optimization hasn't converged yet.\n",
      "  % self.max_iter, ConvergenceWarning)\n"
     ]
    },
    {
     "name": "stdout",
     "output_type": "stream",
     "text": [
      "[CV]  alpha=0.5, hidden_layer_sizes=(100,), learning_rate_init=0.0001, total=  13.9s\n",
      "[CV] alpha=0.5, hidden_layer_sizes=(100,), learning_rate_init=0.0001 .\n"
     ]
    },
    {
     "name": "stderr",
     "output_type": "stream",
     "text": [
      "C:\\ProgramData\\Anaconda3\\lib\\site-packages\\sklearn\\neural_network\\multilayer_perceptron.py:564: ConvergenceWarning: Stochastic Optimizer: Maximum iterations (10) reached and the optimization hasn't converged yet.\n",
      "  % self.max_iter, ConvergenceWarning)\n"
     ]
    },
    {
     "name": "stdout",
     "output_type": "stream",
     "text": [
      "[CV]  alpha=0.5, hidden_layer_sizes=(100,), learning_rate_init=0.0001, total=  12.1s\n",
      "[CV] alpha=0.5, hidden_layer_sizes=(200,), learning_rate_init=0.1 ....\n"
     ]
    },
    {
     "name": "stderr",
     "output_type": "stream",
     "text": [
      "C:\\ProgramData\\Anaconda3\\lib\\site-packages\\sklearn\\neural_network\\multilayer_perceptron.py:564: ConvergenceWarning: Stochastic Optimizer: Maximum iterations (10) reached and the optimization hasn't converged yet.\n",
      "  % self.max_iter, ConvergenceWarning)\n"
     ]
    },
    {
     "name": "stdout",
     "output_type": "stream",
     "text": [
      "[CV]  alpha=0.5, hidden_layer_sizes=(200,), learning_rate_init=0.1, total=  22.4s\n",
      "[CV] alpha=0.5, hidden_layer_sizes=(200,), learning_rate_init=0.1 ....\n"
     ]
    },
    {
     "name": "stderr",
     "output_type": "stream",
     "text": [
      "C:\\ProgramData\\Anaconda3\\lib\\site-packages\\sklearn\\neural_network\\multilayer_perceptron.py:564: ConvergenceWarning: Stochastic Optimizer: Maximum iterations (10) reached and the optimization hasn't converged yet.\n",
      "  % self.max_iter, ConvergenceWarning)\n"
     ]
    },
    {
     "name": "stdout",
     "output_type": "stream",
     "text": [
      "[CV]  alpha=0.5, hidden_layer_sizes=(200,), learning_rate_init=0.1, total=  21.1s\n",
      "[CV] alpha=0.5, hidden_layer_sizes=(200,), learning_rate_init=0.1 ....\n"
     ]
    },
    {
     "name": "stderr",
     "output_type": "stream",
     "text": [
      "C:\\ProgramData\\Anaconda3\\lib\\site-packages\\sklearn\\neural_network\\multilayer_perceptron.py:564: ConvergenceWarning: Stochastic Optimizer: Maximum iterations (10) reached and the optimization hasn't converged yet.\n",
      "  % self.max_iter, ConvergenceWarning)\n"
     ]
    },
    {
     "name": "stdout",
     "output_type": "stream",
     "text": [
      "[CV]  alpha=0.5, hidden_layer_sizes=(200,), learning_rate_init=0.1, total=  22.1s\n",
      "[CV] alpha=0.5, hidden_layer_sizes=(200,), learning_rate_init=0.01 ...\n"
     ]
    },
    {
     "name": "stderr",
     "output_type": "stream",
     "text": [
      "C:\\ProgramData\\Anaconda3\\lib\\site-packages\\sklearn\\neural_network\\multilayer_perceptron.py:564: ConvergenceWarning: Stochastic Optimizer: Maximum iterations (10) reached and the optimization hasn't converged yet.\n",
      "  % self.max_iter, ConvergenceWarning)\n"
     ]
    },
    {
     "name": "stdout",
     "output_type": "stream",
     "text": [
      "[CV]  alpha=0.5, hidden_layer_sizes=(200,), learning_rate_init=0.01, total=  23.3s\n",
      "[CV] alpha=0.5, hidden_layer_sizes=(200,), learning_rate_init=0.01 ...\n"
     ]
    },
    {
     "name": "stderr",
     "output_type": "stream",
     "text": [
      "C:\\ProgramData\\Anaconda3\\lib\\site-packages\\sklearn\\neural_network\\multilayer_perceptron.py:564: ConvergenceWarning: Stochastic Optimizer: Maximum iterations (10) reached and the optimization hasn't converged yet.\n",
      "  % self.max_iter, ConvergenceWarning)\n"
     ]
    },
    {
     "name": "stdout",
     "output_type": "stream",
     "text": [
      "[CV]  alpha=0.5, hidden_layer_sizes=(200,), learning_rate_init=0.01, total=  21.4s\n",
      "[CV] alpha=0.5, hidden_layer_sizes=(200,), learning_rate_init=0.01 ...\n"
     ]
    },
    {
     "name": "stderr",
     "output_type": "stream",
     "text": [
      "C:\\ProgramData\\Anaconda3\\lib\\site-packages\\sklearn\\neural_network\\multilayer_perceptron.py:564: ConvergenceWarning: Stochastic Optimizer: Maximum iterations (10) reached and the optimization hasn't converged yet.\n",
      "  % self.max_iter, ConvergenceWarning)\n"
     ]
    },
    {
     "name": "stdout",
     "output_type": "stream",
     "text": [
      "[CV]  alpha=0.5, hidden_layer_sizes=(200,), learning_rate_init=0.01, total=  21.8s\n",
      "[CV] alpha=0.5, hidden_layer_sizes=(200,), learning_rate_init=0.0001 .\n"
     ]
    },
    {
     "name": "stderr",
     "output_type": "stream",
     "text": [
      "C:\\ProgramData\\Anaconda3\\lib\\site-packages\\sklearn\\neural_network\\multilayer_perceptron.py:564: ConvergenceWarning: Stochastic Optimizer: Maximum iterations (10) reached and the optimization hasn't converged yet.\n",
      "  % self.max_iter, ConvergenceWarning)\n"
     ]
    },
    {
     "name": "stdout",
     "output_type": "stream",
     "text": [
      "[CV]  alpha=0.5, hidden_layer_sizes=(200,), learning_rate_init=0.0001, total=  22.1s\n",
      "[CV] alpha=0.5, hidden_layer_sizes=(200,), learning_rate_init=0.0001 .\n"
     ]
    },
    {
     "name": "stderr",
     "output_type": "stream",
     "text": [
      "C:\\ProgramData\\Anaconda3\\lib\\site-packages\\sklearn\\neural_network\\multilayer_perceptron.py:564: ConvergenceWarning: Stochastic Optimizer: Maximum iterations (10) reached and the optimization hasn't converged yet.\n",
      "  % self.max_iter, ConvergenceWarning)\n"
     ]
    },
    {
     "name": "stdout",
     "output_type": "stream",
     "text": [
      "[CV]  alpha=0.5, hidden_layer_sizes=(200,), learning_rate_init=0.0001, total=  22.0s\n",
      "[CV] alpha=0.5, hidden_layer_sizes=(200,), learning_rate_init=0.0001 .\n"
     ]
    },
    {
     "name": "stderr",
     "output_type": "stream",
     "text": [
      "C:\\ProgramData\\Anaconda3\\lib\\site-packages\\sklearn\\neural_network\\multilayer_perceptron.py:564: ConvergenceWarning: Stochastic Optimizer: Maximum iterations (10) reached and the optimization hasn't converged yet.\n",
      "  % self.max_iter, ConvergenceWarning)\n"
     ]
    },
    {
     "name": "stdout",
     "output_type": "stream",
     "text": [
      "[CV]  alpha=0.5, hidden_layer_sizes=(200,), learning_rate_init=0.0001, total=  21.5s\n",
      "[CV] alpha=0.5, hidden_layer_sizes=(400,), learning_rate_init=0.1 ....\n"
     ]
    },
    {
     "name": "stderr",
     "output_type": "stream",
     "text": [
      "C:\\ProgramData\\Anaconda3\\lib\\site-packages\\sklearn\\neural_network\\multilayer_perceptron.py:564: ConvergenceWarning: Stochastic Optimizer: Maximum iterations (10) reached and the optimization hasn't converged yet.\n",
      "  % self.max_iter, ConvergenceWarning)\n"
     ]
    },
    {
     "name": "stdout",
     "output_type": "stream",
     "text": [
      "[CV]  alpha=0.5, hidden_layer_sizes=(400,), learning_rate_init=0.1, total=  43.0s\n",
      "[CV] alpha=0.5, hidden_layer_sizes=(400,), learning_rate_init=0.1 ....\n"
     ]
    },
    {
     "name": "stderr",
     "output_type": "stream",
     "text": [
      "C:\\ProgramData\\Anaconda3\\lib\\site-packages\\sklearn\\neural_network\\multilayer_perceptron.py:564: ConvergenceWarning: Stochastic Optimizer: Maximum iterations (10) reached and the optimization hasn't converged yet.\n",
      "  % self.max_iter, ConvergenceWarning)\n"
     ]
    },
    {
     "name": "stdout",
     "output_type": "stream",
     "text": [
      "[CV]  alpha=0.5, hidden_layer_sizes=(400,), learning_rate_init=0.1, total=  40.5s\n",
      "[CV] alpha=0.5, hidden_layer_sizes=(400,), learning_rate_init=0.1 ....\n"
     ]
    },
    {
     "name": "stderr",
     "output_type": "stream",
     "text": [
      "C:\\ProgramData\\Anaconda3\\lib\\site-packages\\sklearn\\neural_network\\multilayer_perceptron.py:564: ConvergenceWarning: Stochastic Optimizer: Maximum iterations (10) reached and the optimization hasn't converged yet.\n",
      "  % self.max_iter, ConvergenceWarning)\n"
     ]
    },
    {
     "name": "stdout",
     "output_type": "stream",
     "text": [
      "[CV]  alpha=0.5, hidden_layer_sizes=(400,), learning_rate_init=0.1, total=  42.6s\n",
      "[CV] alpha=0.5, hidden_layer_sizes=(400,), learning_rate_init=0.01 ...\n"
     ]
    },
    {
     "name": "stderr",
     "output_type": "stream",
     "text": [
      "C:\\ProgramData\\Anaconda3\\lib\\site-packages\\sklearn\\neural_network\\multilayer_perceptron.py:564: ConvergenceWarning: Stochastic Optimizer: Maximum iterations (10) reached and the optimization hasn't converged yet.\n",
      "  % self.max_iter, ConvergenceWarning)\n"
     ]
    },
    {
     "name": "stdout",
     "output_type": "stream",
     "text": [
      "[CV]  alpha=0.5, hidden_layer_sizes=(400,), learning_rate_init=0.01, total=  41.3s\n",
      "[CV] alpha=0.5, hidden_layer_sizes=(400,), learning_rate_init=0.01 ...\n"
     ]
    },
    {
     "name": "stderr",
     "output_type": "stream",
     "text": [
      "C:\\ProgramData\\Anaconda3\\lib\\site-packages\\sklearn\\neural_network\\multilayer_perceptron.py:564: ConvergenceWarning: Stochastic Optimizer: Maximum iterations (10) reached and the optimization hasn't converged yet.\n",
      "  % self.max_iter, ConvergenceWarning)\n"
     ]
    },
    {
     "name": "stdout",
     "output_type": "stream",
     "text": [
      "[CV]  alpha=0.5, hidden_layer_sizes=(400,), learning_rate_init=0.01, total=  41.5s\n",
      "[CV] alpha=0.5, hidden_layer_sizes=(400,), learning_rate_init=0.01 ...\n"
     ]
    },
    {
     "name": "stderr",
     "output_type": "stream",
     "text": [
      "C:\\ProgramData\\Anaconda3\\lib\\site-packages\\sklearn\\neural_network\\multilayer_perceptron.py:564: ConvergenceWarning: Stochastic Optimizer: Maximum iterations (10) reached and the optimization hasn't converged yet.\n",
      "  % self.max_iter, ConvergenceWarning)\n"
     ]
    },
    {
     "name": "stdout",
     "output_type": "stream",
     "text": [
      "[CV]  alpha=0.5, hidden_layer_sizes=(400,), learning_rate_init=0.01, total=  40.5s\n",
      "[CV] alpha=0.5, hidden_layer_sizes=(400,), learning_rate_init=0.0001 .\n"
     ]
    },
    {
     "name": "stderr",
     "output_type": "stream",
     "text": [
      "C:\\ProgramData\\Anaconda3\\lib\\site-packages\\sklearn\\neural_network\\multilayer_perceptron.py:564: ConvergenceWarning: Stochastic Optimizer: Maximum iterations (10) reached and the optimization hasn't converged yet.\n",
      "  % self.max_iter, ConvergenceWarning)\n"
     ]
    },
    {
     "name": "stdout",
     "output_type": "stream",
     "text": [
      "[CV]  alpha=0.5, hidden_layer_sizes=(400,), learning_rate_init=0.0001, total=  45.5s\n",
      "[CV] alpha=0.5, hidden_layer_sizes=(400,), learning_rate_init=0.0001 .\n"
     ]
    },
    {
     "name": "stderr",
     "output_type": "stream",
     "text": [
      "C:\\ProgramData\\Anaconda3\\lib\\site-packages\\sklearn\\neural_network\\multilayer_perceptron.py:564: ConvergenceWarning: Stochastic Optimizer: Maximum iterations (10) reached and the optimization hasn't converged yet.\n",
      "  % self.max_iter, ConvergenceWarning)\n"
     ]
    },
    {
     "name": "stdout",
     "output_type": "stream",
     "text": [
      "[CV]  alpha=0.5, hidden_layer_sizes=(400,), learning_rate_init=0.0001, total=  51.9s\n",
      "[CV] alpha=0.5, hidden_layer_sizes=(400,), learning_rate_init=0.0001 .\n"
     ]
    },
    {
     "name": "stderr",
     "output_type": "stream",
     "text": [
      "C:\\ProgramData\\Anaconda3\\lib\\site-packages\\sklearn\\neural_network\\multilayer_perceptron.py:564: ConvergenceWarning: Stochastic Optimizer: Maximum iterations (10) reached and the optimization hasn't converged yet.\n",
      "  % self.max_iter, ConvergenceWarning)\n"
     ]
    },
    {
     "name": "stdout",
     "output_type": "stream",
     "text": [
      "[CV]  alpha=0.5, hidden_layer_sizes=(400,), learning_rate_init=0.0001, total=  46.9s\n"
     ]
    },
    {
     "name": "stderr",
     "output_type": "stream",
     "text": [
      "[Parallel(n_jobs=1)]: Done  81 out of  81 | elapsed: 34.8min finished\n",
      "C:\\ProgramData\\Anaconda3\\lib\\site-packages\\sklearn\\neural_network\\multilayer_perceptron.py:564: ConvergenceWarning: Stochastic Optimizer: Maximum iterations (10) reached and the optimization hasn't converged yet.\n",
      "  % self.max_iter, ConvergenceWarning)\n"
     ]
    },
    {
     "name": "stdout",
     "output_type": "stream",
     "text": [
      "Training accuracy: 0.962000\n",
      "Validation accuracy: 0.967000\n"
     ]
    }
   ],
   "source": [
    "import numpy as np\n",
    "from sklearn.neural_network import MLPClassifier\n",
    "from sklearn.model_selection import GridSearchCV\n",
    "\n",
    "param_grid = {\n",
    "        'hidden_layer_sizes': [(100,), (200,),(400,)],\n",
    "        'learning_rate_init': [0.1, 0.01,0.0001],\n",
    "        'alpha': [0.1, 0.3, 0.5] #L2 penalty (regularization term) parameter.\n",
    "    }\n",
    "estimator = GridSearchCV(\n",
    "        MLPClassifier(batch_size = 200, max_iter=10, learning_rate = 'invscaling', solver = 'sgd', random_state = 2, verbose=False),  \n",
    "        param_grid = param_grid, verbose=2)\n",
    "estimator.fit(X_train, y_train)\n",
    "\n",
    "clf = estimator.best_estimator_\n",
    "\n",
    "print(\"Training accuracy: %f\" % clf.score(X_train, y_train))\n",
    "print(\"Validation accuracy: %f\" % clf.score(X_val, y_val))"
   ]
  },
  {
   "cell_type": "markdown",
   "metadata": {},
   "source": [
    "## 1-2-2- visualize the weight of network\n",
    "with this file we attach another file that can plot weights and visualize them.**after plot weights Do you see any pattern in weight plot? whats this weight mean ?**"
   ]
  },
  {
   "cell_type": "markdown",
   "metadata": {},
   "source": [
    "جواب سوال در داکیومنت ضمیمه شده آمده است"
   ]
  },
  {
   "cell_type": "code",
   "execution_count": 3,
   "metadata": {},
   "outputs": [
    {
     "name": "stdout",
     "output_type": "stream",
     "text": [
      "MLPClassifier(activation='relu', alpha=0.1, batch_size=200, beta_1=0.9,\n",
      "       beta_2=0.999, early_stopping=False, epsilon=1e-08,\n",
      "       hidden_layer_sizes=(400,), learning_rate='invscaling',\n",
      "       learning_rate_init=0.1, max_iter=10, momentum=0.9,\n",
      "       nesterovs_momentum=True, power_t=0.5, random_state=2, shuffle=True,\n",
      "       solver='sgd', tol=0.0001, validation_fraction=0.1, verbose=False,\n",
      "       warm_start=False)\n",
      "(245, 245, 1)\n"
     ]
    },
    {
     "data": {
      "image/png": "[encoded data removed]",
      "text/plain": [
       "<matplotlib.figure.Figure at 0x574cf28>"
      ]
     },
     "metadata": {},
     "output_type": "display_data"
    }
   ],
   "source": [
    "from visualization import visualize\n",
    "print(clf) # چاپ پارامترهای بهترین کلاسیفایر یافت شده\n",
    "weight=clf.coefs_[0]\n",
    "weight=np.asarray(weight)\n",
    "def show_net_weights(W1):\n",
    "  W1 = W1[:,0:50].reshape(28, 28, 1, -1).transpose(3, 0, 1, 2)\n",
    "  plt.imshow(visualize(W1, padding=3).astype('uint8'))\n",
    "  plt.gca().axis('off')\n",
    "  plt.show()\n",
    "\n",
    "show_net_weights(weight)"
   ]
  },
  {
   "cell_type": "markdown",
   "metadata": {},
   "source": [
    ":چون در قسمت یافتن بهترین پارامترها تنها به ازای 10 ایپاک یادگیری انجام شد، اینجا با همان پارامترهای مربوط به بهترین مدل یافت شده سعی می کنیم با تعداد بیشتری تکرار (40 ایپاک) آموزش را انجام دهیم"
   ]
  },
  {
   "cell_type": "code",
   "execution_count": 5,
   "metadata": {},
   "outputs": [
    {
     "name": "stdout",
     "output_type": "stream",
     "text": [
      "(245, 245, 1)\n"
     ]
    },
    {
     "data": {
      "image/png": "[encoded data removed]",
      "text/plain": [
       "<matplotlib.figure.Figure at 0x14f7b9e8>"
      ]
     },
     "metadata": {},
     "output_type": "display_data"
    }
   ],
   "source": [
    "from sklearn.neural_network import MLPClassifier\n",
    "from visualization import visualize\n",
    "\n",
    "clf_best = MLPClassifier(hidden_layer_sizes=(400,), learning_rate_init=0.1, alpha=0.1,\n",
    "                    solver='sgd', batch_size = 200, max_iter=40, random_state=2\n",
    "                    )\n",
    "clf_best.fit(X_train, y_train)\n",
    "\n",
    "weight=clf_best.coefs_[0]\n",
    "weight=np.asarray(weight)\n",
    "def show_net_weights(W1):\n",
    "  W1 = W1[:,0:50].reshape(28, 28, 1, -1).transpose(3, 0, 1, 2)\n",
    "  plt.imshow(visualize(W1, padding=3).astype('uint8'))\n",
    "  plt.gca().axis('off')\n",
    "  plt.show()\n",
    "\n",
    "show_net_weights(weight)"
   ]
  },
  {
   "cell_type": "markdown",
   "metadata": {},
   "source": [
    "## 1-2-3- Test acc\n",
    "test your network with test dataset and report accuracy"
   ]
  },
  {
   "cell_type": "code",
   "execution_count": 12,
   "metadata": {},
   "outputs": [
    {
     "name": "stdout",
     "output_type": "stream",
     "text": [
      "Test accuracy: 0.959500\n"
     ]
    }
   ],
   "source": [
    "print(\"Test accuracy: %f\" % clf.score(X_test, y_test))"
   ]
  },
  {
   "cell_type": "markdown",
   "metadata": {},
   "source": [
    "## 1-2-4- Scikit-learn with normalization\n",
    "In this section we use previous code with just one change. befor you feed data to network normalized them . "
   ]
  },
  {
   "cell_type": "code",
   "execution_count": 38,
   "metadata": {},
   "outputs": [
    {
     "name": "stdout",
     "output_type": "stream",
     "text": [
      "Iteration 1, loss = 0.48662452\n",
      "Iteration 2, loss = 0.37706604\n",
      "Iteration 3, loss = 0.29957069\n",
      "Iteration 4, loss = 0.24691511\n",
      "Iteration 5, loss = 0.21649138\n",
      "Iteration 6, loss = 0.17389433\n",
      "Iteration 7, loss = 0.14685517\n",
      "Iteration 8, loss = 0.12630433\n",
      "Iteration 9, loss = 0.10625715\n",
      "Iteration 10, loss = 0.09244030\n"
     ]
    },
    {
     "name": "stderr",
     "output_type": "stream",
     "text": [
      "C:\\ProgramData\\Anaconda3\\lib\\site-packages\\sklearn\\neural_network\\multilayer_perceptron.py:564: ConvergenceWarning: Stochastic Optimizer: Maximum iterations (10) reached and the optimization hasn't converged yet.\n",
      "  % self.max_iter, ConvergenceWarning)\n"
     ]
    },
    {
     "name": "stdout",
     "output_type": "stream",
     "text": [
      "Training accuracy: 0.998224\n",
      "Validation accuracy: 0.977000\n"
     ]
    }
   ],
   "source": [
    "'''  '''\n",
    "def Normalize(X):\n",
    "    N = X.shape[0]\n",
    "    mu = np.sum(X, axis = 0) / N\n",
    "    X_normalized = X - mu\n",
    "    sigma2 = np.sum(np.square(X_normalized), axis = 0) / N\n",
    "    sigma = np.sqrt(sigma2)\n",
    "    sigma += 0.0001 #epsilon برای جلوگیری از تقسیم بر صفر شدن\n",
    "    X_normalized /= sigma\n",
    "    return X_normalized\n",
    "\n",
    "X_train_normalized = Normalize(X_train)\n",
    "mlp = MLPClassifier(hidden_layer_sizes=(400,), learning_rate_init=0.1, alpha=0.1,\n",
    "                    solver='sgd', batch_size = 200, max_iter=10, random_state=2, verbose=True\n",
    "                    )\n",
    "mlp.fit(X_train_normalized, y_train)\n",
    "\n",
    "#print(np.min(X_train))\n",
    "#print(np.max(X_train))\n",
    "print(\"Training accuracy: %f\" % mlp.score(X_train_normalized, y_train))\n",
    "X_val_normalized = Normalize(X_val)\n",
    "print(\"Validation accuracy: %f\" % mlp.score(X_val_normalized, y_val))"
   ]
  },
  {
   "cell_type": "markdown",
   "metadata": {},
   "source": [
    "## 1-2-5- Test accuracy\n",
    "Test again your network with test dataset.Do you see any progress in test accuracy against result of prevouis section?"
   ]
  },
  {
   "cell_type": "markdown",
   "metadata": {},
   "source": [
    "به طور کلی جواب کامل و دلایل و مقایسه در داکیومنت آورده شده است\n"
   ]
  },
  {
   "cell_type": "code",
   "execution_count": 39,
   "metadata": {},
   "outputs": [
    {
     "name": "stdout",
     "output_type": "stream",
     "text": [
      "Test accuracy: 0.975800\n"
     ]
    }
   ],
   "source": [
    "X_test_normalized = Normalize(X_test)\n",
    "print(\"Test accuracy: %f\" % mlp.score(X_test_normalized, y_test))"
   ]
  },
  {
   "cell_type": "code",
   "execution_count": null,
   "metadata": {
    "collapsed": true
   },
   "outputs": [],
   "source": []
  }
 ],
 "metadata": {
  "kernelspec": {
   "display_name": "Python 3",
   "language": "python",
   "name": "python3"
  },
  "language_info": {
   "codemirror_mode": {
    "name": "ipython",
    "version": 3
   },
   "file_extension": ".py",
   "mimetype": "text/x-python",
   "name": "python",
   "nbconvert_exporter": "python",
   "pygments_lexer": "ipython3",
   "version": "3.6.2"
  }
 },
 "nbformat": 4,
 "nbformat_minor": 2
}
